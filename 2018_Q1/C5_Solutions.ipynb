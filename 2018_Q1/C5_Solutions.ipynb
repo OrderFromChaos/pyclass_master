{
 "cells": [
  {
   "cell_type": "code",
   "execution_count": 1,
   "metadata": {
    "collapsed": true
   },
   "outputs": [],
   "source": [
    "# How to approach these problems:\n",
    "    # 1. What sort of constraints or important things are there in this problem?\n",
    "    # 2. How do I implement those constraints?"
   ]
  },
  {
   "cell_type": "code",
   "execution_count": 2,
   "metadata": {
    "collapsed": false
   },
   "outputs": [
    {
     "name": "stdout",
     "output_type": "stream",
     "text": [
      "4\n",
      "banana\n",
      "banana\n"
     ]
    }
   ],
   "source": [
    "# Syntax to know:\n",
    "def add(a,b):\n",
    "    return a+b\n",
    "print(add(1,3))\n",
    "\n",
    "print('banana')\n",
    "print('ba' + 'na'*2) # Same thing!"
   ]
  },
  {
   "cell_type": "code",
   "execution_count": 1,
   "metadata": {
    "collapsed": false
   },
   "outputs": [
    {
     "ename": "IndexError",
     "evalue": "list index out of range",
     "output_type": "error",
     "traceback": [
      "\u001b[0;31m---------------------------------------------------------------------------\u001b[0m",
      "\u001b[0;31mIndexError\u001b[0m                                Traceback (most recent call last)",
      "\u001b[0;32m<ipython-input-1-3cab78cb3ec8>\u001b[0m in \u001b[0;36m<module>\u001b[0;34m()\u001b[0m\n\u001b[1;32m      3\u001b[0m \u001b[1;31m# Example:\u001b[0m\u001b[1;33m\u001b[0m\u001b[1;33m\u001b[0m\u001b[0m\n\u001b[1;32m      4\u001b[0m \u001b[0mdata\u001b[0m \u001b[1;33m=\u001b[0m \u001b[1;33m[\u001b[0m\u001b[1;36m1\u001b[0m\u001b[1;33m,\u001b[0m\u001b[1;36m2\u001b[0m\u001b[1;33m,\u001b[0m\u001b[1;36m5\u001b[0m\u001b[1;33m,\u001b[0m\u001b[1;36m4\u001b[0m\u001b[1;33m,\u001b[0m\u001b[1;36m3\u001b[0m\u001b[1;33m]\u001b[0m\u001b[1;33m\u001b[0m\u001b[0m\n\u001b[0;32m----> 5\u001b[0;31m \u001b[0mdata\u001b[0m\u001b[1;33m[\u001b[0m\u001b[1;36m5\u001b[0m\u001b[1;33m]\u001b[0m\u001b[1;33m\u001b[0m\u001b[0m\n\u001b[0m\u001b[1;32m      6\u001b[0m \u001b[1;31m# >>> IndexError: list index out of range\u001b[0m\u001b[1;33m\u001b[0m\u001b[1;33m\u001b[0m\u001b[0m\n",
      "\u001b[0;31mIndexError\u001b[0m: list index out of range"
     ]
    }
   ],
   "source": [
    "### 3. Cyclic list\n",
    "# Lists don't allow you to index things outside of the maximum list index.\n",
    "# Example:\n",
    "data = [1,2,5,4,3]\n",
    "data[5]\n",
    "# >>> IndexError: list index out of range"
   ]
  },
  {
   "cell_type": "code",
   "execution_count": 6,
   "metadata": {
    "collapsed": false
   },
   "outputs": [
    {
     "name": "stdout",
     "output_type": "stream",
     "text": [
      "1 1\n",
      "1 1\n",
      "5 5\n",
      "trains trains\n"
     ]
    }
   ],
   "source": [
    "# Let's write a function that will allow us to to grab terms as if the list connected to itself at the end.\n",
    "# For example, data[5] would return 1. It went past 3 and went back to the start of the list.\n",
    "\n",
    "# Check number 4 under \"special functions\" on the guide if you get stuck.\n",
    "\n",
    "def cyclic_index(data,index):\n",
    "    ### SOLUTION\n",
    "    value = data[index%len(data)]\n",
    "    ### SOLUTION\n",
    "    return value\n",
    "\n",
    "tests = [[[1,2,5,4,3],5],\n",
    "         [[1,2,5,4,3],0],\n",
    "         [[1,2,5,4],2534],\n",
    "         [['15','2','trains',4,3,0],29936]]\n",
    "answers = [1,1,5,'trains']\n",
    "for i,x in enumerate(tests):\n",
    "    print(cyclic_index(*x),answers[i])"
   ]
  },
  {
   "cell_type": "code",
   "execution_count": 9,
   "metadata": {
    "collapsed": false
   },
   "outputs": [
    {
     "name": "stdout",
     "output_type": "stream",
     "text": [
      "1194\n"
     ]
    }
   ],
   "source": [
    "### Interlude: An extension on the cyclic_index function\n",
    "# https://adventofcode.com/2017/day/1\n",
    "# Part 1\n",
    "seed = '823936645345581272695677318513459491834641129844393742672553544439126314399846773234845535593355348931499496184839582118817689171948635864427852215325421433717458975771369522138766248225963242168658975326354785415252974294317138511141826226866364555761117178764543435899886711426319675443679829181257496966219435831621565519667989898725836639626681645821714861443141893427672384716732765884844772433374798185955741311116365899659833634237938878181367317218635539667357364295754744829595842962773524584225427969467467611641591834876769829719248136613147351298534885563144114336211961674392912181735773851634298227454157885241769156811787611897349965331474217223461176896643242975397227859696554492996937235423272549348349528559432214521551656971136859972232854126262349381254424597348874447736545722261957871275935756764184378994167427983811716675476257858556464755677478725146588747147857375293675711575747132471727933773512571368467386151966568598964631331428869762151853634362356935751298121849281442128796517663482391226174256395515166361514442624944181255952124524815268864131969151433888721213595267927325759562132732586252438456569556992685896517565257787464673718221817783929691626876446423134331749327322367571432532857235214364221471769481667118117729326429556357572421333798517168997863151927281418238491791975399357393494751913155219862399959646993428921878798119215675548847845477994836744929918954159722827194721564121532315459611433157384994543332773796862165243183378464731546787498174844781781139571984272235872866886275879944921329959736315296733981313643956576956851762149275521949177991988236529475373595217665112434727744235789852852765675189342753695377219374791548554786671473733124951946779531847479755363363288448281622183736545494372344785112312749694167483996738384351293899149136857728545977442763489799693492319549773328626918874718387697878235744154491677922317518952687439655962477734559232755624943644966227973617788182213621899579391324399386146423427262874437992579573858589183571854577861459758534348533553925167947139351819511798829977371215856637215221838924612644785498936263849489519896548811254628976642391428413984281758771868781714266261781359762798'\n",
    "ans = 0\n",
    "for i,x in enumerate(seed):\n",
    "    if x == cyclic_index(seed,i+1):\n",
    "        ans += int(x)\n",
    "print(ans)\n",
    "# Part 2\n",
    "# Just change line 7 to this:\n",
    "#     if x == cyclic_index(seed,i+len(seed)//2)):"
   ]
  },
  {
   "cell_type": "code",
   "execution_count": 10,
   "metadata": {
    "collapsed": false
   },
   "outputs": [
    {
     "name": "stdout",
     "output_type": "stream",
     "text": [
      "banana\n",
      "apple\n"
     ]
    }
   ],
   "source": [
    "### 4. Framed phrase\n",
    "# Given a list of words, print them out on new lines with a box surrounding them. Example:\n",
    "# Example: ['Hello', 'World','in','a','frame']\n",
    "# Output:\n",
    "# *********\n",
    "# * Hello *\n",
    "# * World *\n",
    "# * in    *\n",
    "# * a     *\n",
    "# * frame *\n",
    "# *********\n",
    "test_list = ['This','is','a','sentence','with','varying','length','words.']\n",
    "\n",
    "### SOLUTION\n",
    "\n",
    "# 1. Find longest word\n",
    "max_len = 0\n",
    "for i in test_list:\n",
    "    if len(i) > max_len:\n",
    "        max_len = len(i)\n",
    "padding_len = max_len + 4\n",
    "\n",
    "# 2. Print box and words\n",
    "print('*'*padding_len)\n",
    "for i in test_list:\n",
    "    print('* ' + i + ' '*(max_len-len(i)+1) + '*')\n",
    "print('*'*padding_len)\n",
    "\n",
    "### SOLUTION"
   ]
  },
  {
   "cell_type": "code",
   "execution_count": null,
   "metadata": {
    "collapsed": true
   },
   "outputs": [],
   "source": []
  }
 ],
 "metadata": {
  "anaconda-cloud": {},
  "kernelspec": {
   "display_name": "Python 3",
   "language": "python",
   "name": "python3"
  },
  "language_info": {
   "codemirror_mode": {
    "name": "ipython",
    "version": 3
   },
   "file_extension": ".py",
   "mimetype": "text/x-python",
   "name": "python",
   "nbconvert_exporter": "python",
   "pygments_lexer": "ipython3",
   "version": "3.6.0"
  }
 },
 "nbformat": 4,
 "nbformat_minor": 2
}
