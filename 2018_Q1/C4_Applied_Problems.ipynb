{
 "cells": [
  {
   "cell_type": "code",
   "execution_count": 12,
   "metadata": {
    "collapsed": false
   },
   "outputs": [
    {
     "name": "stdout",
     "output_type": "stream",
     "text": [
      "[2, '5', 3, 't', 5, '6', 6, 'rs']\n",
      "[2, 3, 5, 6]\n",
      "['5', 't', '6', 'rs']\n"
     ]
    }
   ],
   "source": [
    "### Interleaved list - example of the use of the [::step] portion of indexing\n",
    "a = [2,3,5,6]\n",
    "b = ['5','t','6','rs']\n",
    "c = []\n",
    "for i,x in enumerate(a):\n",
    "    c.append(a[i])\n",
    "    c.append(b[i])\n",
    "print(c)\n",
    "print(c[::2])\n",
    "print(c[1::2])"
   ]
  },
  {
   "cell_type": "code",
   "execution_count": 1,
   "metadata": {
    "collapsed": false
   },
   "outputs": [
    {
     "name": "stdout",
     "output_type": "stream",
     "text": [
      "Guess the number.500\n",
      "Too high\n",
      "Guess the number.250\n",
      "Too low\n",
      "Guess the number.375\n",
      "Too high\n",
      "Guess the number.325\n",
      "Too low\n",
      "Guess the number.350\n",
      "Too high\n",
      "Guess the number.340\n",
      "Too low\n",
      "Guess the number.345\n",
      "Too low\n",
      "Guess the number.347\n",
      "Too low\n",
      "Guess the number.349\n",
      "Too high\n",
      "Guess the number.348\n",
      "You won!\n"
     ]
    }
   ],
   "source": [
    "### 1. Guessing Game\n",
    "import random\n",
    "\n",
    "guess = -1\n",
    "number = random.randint(1,1000)\n",
    "while guess != number:\n",
    "    guess = int(input('Guess the number.'))\n",
    "    \n",
    "    # Check if number is correct.\n",
    "    # There are three conditions here: (Too low | Correct | Too high). Write a series of if functions that checks the number\n",
    "    #       and prints out the proper response.\n",
    "    if guess == number:\n",
    "        print('You won!')\n",
    "    elif guess < number:\n",
    "        print('Too low')\n",
    "    else:\n",
    "        print('Too high')"
   ]
  },
  {
   "cell_type": "code",
   "execution_count": 11,
   "metadata": {
    "collapsed": false
   },
   "outputs": [
    {
     "name": "stdout",
     "output_type": "stream",
     "text": [
      "dogeeseseegod\n",
      "It is a palindrome! (Solution method 1)\n",
      "It is a palindrome! (Solution method 2)\n",
      "redivider\n",
      "It is a palindrome! (Solution method 1)\n",
      "It is a palindrome! (Solution method 2)\n"
     ]
    }
   ],
   "source": [
    "### 2. Check if a string is a \"palindrome\"\n",
    "# A palindrome looks the same when flipped around.\n",
    "# Examples of palindromes: kayak, racecar, refer, ...\n",
    "\n",
    "def isPalindrome(string):\n",
    "    import re\n",
    "    string = re.sub(' ','',string) # Removes spaces; not syntax you need to know yet\n",
    "    # Example: 'do geese see god' -> 'dogeeseseegod'\n",
    "    \n",
    "    # Make up a series of if statements that will check if a number is a palindrome or not.\n",
    "    # (HINT 1: The best way to do this is through some clever indexing.)\n",
    "    ## Hints past here imply solution 2\n",
    "    # (HINT 2: If you do int(3.5), it will round the number to no decimal places. In this case, int(3.5) -->> 4.\n",
    "    #          This will allow you to identify the center.)\n",
    "    # (HINT 3: len() is useful here )\n",
    "    \n",
    "    ### Solution 1: Clever\n",
    "    if string == string[::-1]:\n",
    "        print(string)\n",
    "        print('It is a palindrome! (Solution method 1)')\n",
    "    \n",
    "    ### Solution 2: Brute Force\n",
    "    # This method consists of flipping the \"right\" side of the string and seeing if it matches the \"left\" side of the string\n",
    "    # Example: dogeeseseegod -> dogees e seegod -> dogees =?= dogess (flipped right side) -> Palindrome!\n",
    "    \n",
    "    # Although this method is something that works, it adds much additional complexity compared to solution 1.\n",
    "    # For example, what if your string length is even? Then there is no \"center\", and your indexing method has to be defined differently.\n",
    "    # Example: dogs -> do gs -> do =?= sg -> Not a palindrome!\n",
    "    # The step of removing the center isn't there anymore.\n",
    "    # Fortunately, each of these strings are odd length, so we'll use the odd length solution:\n",
    "    center = int(len(string)/2)\n",
    "    if string[:center] == string[center+1:][::-1]:\n",
    "        # Notice that neither of these indexes include the center.\n",
    "        # The right string is flipped using [::-1] (the string reverse index). The reason we don't use string[center::-1] is because that is\n",
    "        #     the indexer to read string from center+1 to the end of the string backwards, which will return stuff from before center+1.\n",
    "        print('It is a palindrome! (Solution method 2)')\n",
    "    \n",
    "tests = ['do geese see god', 'mr owl eats my metal worm', 'redivider']\n",
    "for i in tests:\n",
    "    isPalindrome(i)"
   ]
  }
 ],
 "metadata": {
  "anaconda-cloud": {},
  "kernelspec": {
   "display_name": "Python 3",
   "language": "python",
   "name": "python3"
  },
  "language_info": {
   "codemirror_mode": {
    "name": "ipython",
    "version": 3
   },
   "file_extension": ".py",
   "mimetype": "text/x-python",
   "name": "python",
   "nbconvert_exporter": "python",
   "pygments_lexer": "ipython3",
   "version": "3.6.0"
  }
 },
 "nbformat": 4,
 "nbformat_minor": 1
}
