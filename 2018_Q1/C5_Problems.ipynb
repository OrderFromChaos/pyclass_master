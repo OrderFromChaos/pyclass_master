{
 "cells": [
  {
   "cell_type": "code",
   "execution_count": 1,
   "metadata": {
    "collapsed": true
   },
   "outputs": [],
   "source": [
    "# How to approach these problems:\n",
    "    # 1. What sort of constraints or important things are there in this problem?\n",
    "    # 2. How do I implement those constraints?"
   ]
  },
  {
   "cell_type": "code",
   "execution_count": 2,
   "metadata": {
    "collapsed": false
   },
   "outputs": [
    {
     "name": "stdout",
     "output_type": "stream",
     "text": [
      "4\n",
      "banana\n",
      "banana\n"
     ]
    }
   ],
   "source": [
    "# Syntax to know:\n",
    "def add(a,b):\n",
    "    return a+b\n",
    "print(add(1,3))\n",
    "\n",
    "print('banana')\n",
    "print('ba' + 'na'*2) # Same thing!"
   ]
  },
  {
   "cell_type": "code",
   "execution_count": 1,
   "metadata": {
    "collapsed": false
   },
   "outputs": [
    {
     "ename": "IndexError",
     "evalue": "list index out of range",
     "output_type": "error",
     "traceback": [
      "\u001b[0;31m---------------------------------------------------------------------------\u001b[0m",
      "\u001b[0;31mIndexError\u001b[0m                                Traceback (most recent call last)",
      "\u001b[0;32m<ipython-input-1-3cab78cb3ec8>\u001b[0m in \u001b[0;36m<module>\u001b[0;34m()\u001b[0m\n\u001b[1;32m      3\u001b[0m \u001b[1;31m# Example:\u001b[0m\u001b[1;33m\u001b[0m\u001b[1;33m\u001b[0m\u001b[0m\n\u001b[1;32m      4\u001b[0m \u001b[0mdata\u001b[0m \u001b[1;33m=\u001b[0m \u001b[1;33m[\u001b[0m\u001b[1;36m1\u001b[0m\u001b[1;33m,\u001b[0m\u001b[1;36m2\u001b[0m\u001b[1;33m,\u001b[0m\u001b[1;36m5\u001b[0m\u001b[1;33m,\u001b[0m\u001b[1;36m4\u001b[0m\u001b[1;33m,\u001b[0m\u001b[1;36m3\u001b[0m\u001b[1;33m]\u001b[0m\u001b[1;33m\u001b[0m\u001b[0m\n\u001b[0;32m----> 5\u001b[0;31m \u001b[0mdata\u001b[0m\u001b[1;33m[\u001b[0m\u001b[1;36m5\u001b[0m\u001b[1;33m]\u001b[0m\u001b[1;33m\u001b[0m\u001b[0m\n\u001b[0m\u001b[1;32m      6\u001b[0m \u001b[1;31m# >>> IndexError: list index out of range\u001b[0m\u001b[1;33m\u001b[0m\u001b[1;33m\u001b[0m\u001b[0m\n",
      "\u001b[0;31mIndexError\u001b[0m: list index out of range"
     ]
    }
   ],
   "source": [
    "### 3. Cyclic list\n",
    "# Lists don't allow you to index things outside of the maximum list index.\n",
    "# Example:\n",
    "data = [1,2,5,4,3]\n",
    "data[5]\n",
    "# >>> IndexError: list index out of range"
   ]
  },
  {
   "cell_type": "code",
   "execution_count": 6,
   "metadata": {
    "collapsed": false
   },
   "outputs": [
    {
     "name": "stdout",
     "output_type": "stream",
     "text": [
      "1 1\n",
      "1 1\n",
      "5 5\n",
      "trains trains\n"
     ]
    }
   ],
   "source": [
    "# Let's write a function that will allow us to to grab terms as if the list connected to itself at the end.\n",
    "# For example, data[5] would return 1. It went past 3 and went back to the start of the list.\n",
    "\n",
    "# Check number 4 under \"special functions\" on the guide if you get stuck.\n",
    "\n",
    "def cyclic_index(data,index):\n",
    "    ### YOUR CODE HERE\n",
    "    return value\n",
    "\n",
    "tests = [[[1,2,5,4,3],5],\n",
    "         [[1,2,5,4,3],0],\n",
    "         [[1,2,5,4],2534],\n",
    "         [['15','2','trains',4,3,0],29936]]\n",
    "answers = [1,1,5,'trains']\n",
    "for i,x in enumerate(tests):\n",
    "    print(cyclic_index(*x),answers[i])"
   ]
  },
  {
   "cell_type": "code",
   "execution_count": 1,
   "metadata": {
    "collapsed": false
   },
   "outputs": [],
   "source": [
    "### Interlude: An extension on the cyclic_index function\n",
    "# https://adventofcode.com/2017/day/1\n",
    "\n",
    "# You can try these if you want. Sign up for an account at the link and use the seed they give you.\n",
    "# You should be able to use your cyclic_index() function to solve the problems."
   ]
  },
  {
   "cell_type": "code",
   "execution_count": 2,
   "metadata": {
    "collapsed": false
   },
   "outputs": [],
   "source": [
    "### 4. Framed phrase\n",
    "# Given a list of words, print them out on new lines with a box surrounding them. Example:\n",
    "# Example: ['Hello', 'World','in','a','frame']\n",
    "# Output:\n",
    "# *********\n",
    "# * Hello *\n",
    "# * World *\n",
    "# * in    *\n",
    "# * a     *\n",
    "# * frame *\n",
    "# *********\n",
    "test_list = ['This','is','a','sentence','with','varying','length','words.']\n",
    "\n",
    "### YOUR CODE HERE ###\n",
    "# Hint: Step 1 is finding the longest length of word\n",
    "#       Step 2 is finding out how to print the top and bottom of the boxes\n",
    "#       Step 3 is finding out how to print the middle part of the box"
   ]
  },
  {
   "cell_type": "code",
   "execution_count": null,
   "metadata": {
    "collapsed": true
   },
   "outputs": [],
   "source": []
  }
 ],
 "metadata": {
  "anaconda-cloud": {},
  "kernelspec": {
   "display_name": "Python 3",
   "language": "python",
   "name": "python3"
  },
  "language_info": {
   "codemirror_mode": {
    "name": "ipython",
    "version": 3
   },
   "file_extension": ".py",
   "mimetype": "text/x-python",
   "name": "python",
   "nbconvert_exporter": "python",
   "pygments_lexer": "ipython3",
   "version": "3.6.0"
  }
 },
 "nbformat": 4,
 "nbformat_minor": 2
}
