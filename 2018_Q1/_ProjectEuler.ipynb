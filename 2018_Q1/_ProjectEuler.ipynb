{
 "cells": [
  {
   "cell_type": "code",
   "execution_count": 4,
   "metadata": {
    "collapsed": false
   },
   "outputs": [
    {
     "name": "stdout",
     "output_type": "stream",
     "text": [
      "Clickable link!\n",
      " https://projecteuler.net/archives\n"
     ]
    }
   ],
   "source": [
    "### Problems from\n",
    "print('Clickable link!\\n','https://projecteuler.net/archives')"
   ]
  },
  {
   "cell_type": "code",
   "execution_count": 7,
   "metadata": {
    "collapsed": false
   },
   "outputs": [
    {
     "name": "stdout",
     "output_type": "stream",
     "text": [
      "https://projecteuler.net/problem=1\n",
      "233168\n",
      "233168\n",
      "233168\n"
     ]
    }
   ],
   "source": [
    "### Problem 1\n",
    "print('https://projecteuler.net/problem=1')\n",
    "# Solution: 233168\n",
    "\n",
    "# Solution 1: Standard\n",
    "solution = 0\n",
    "for number in range(1000):\n",
    "    if number % 3 == 0: # True if \"number\" is evenly divisible by 3\n",
    "        solution += number\n",
    "    if number % 5 == 0:\n",
    "        solution += number\n",
    "    if number % 15 == 0:\n",
    "        solution -= number\n",
    "print(solution)\n",
    "\n",
    "# Solution 1.5: More clever\n",
    "solution = 0\n",
    "for number in range(1000):\n",
    "    if number % 3 == 0: # True if \"number\" is evenly divisible by 3\n",
    "        solution += number\n",
    "    elif number % 5 == 0:\n",
    "        solution += number\n",
    "    # On the previous one, we had to subtract the 15*x collisions (terms which showed up more that once, since 15 is evenly div by 3 and 5)\n",
    "    # \"elif\" will only run if the previous condition was false, so this implicitly deals with the 15*x problem.\n",
    "print(solution)\n",
    "\n",
    "# Solution 2: Clever\n",
    "# Turns range() (a generator) into a list. The step is defined so it grabs each multiple of 3, then each multiple of 5.\n",
    "# This allows the solution to be one line long.\n",
    "print( sum(list(range(3,1000,3))) + sum(list(range(5,1000,5))) - sum(list(range(15,1000,15))) )"
   ]
  },
  {
   "cell_type": "code",
   "execution_count": 17,
   "metadata": {
    "collapsed": false
   },
   "outputs": [
    {
     "name": "stdout",
     "output_type": "stream",
     "text": [
      "https://projecteuler.net/problem=2\n",
      "[1, 1, 2, 3, 5, 8, 13, 21, 34, 55, 89, 144, 233, 377, 610, 987, 1597, 2584, 4181, 6765, 10946, 17711, 28657, 46368, 75025, 121393, 196418, 317811, 514229, 832040, 1346269, 2178309, 3524578]\n",
      "4613732\n",
      "[1, 1, 2, 3, 5, 8, 13, 21, 34, 55, 89, 144, 233, 377, 610, 987, 1597, 2584, 4181, 6765, 10946, 17711, 28657, 46368, 75025, 121393, 196418, 317811, 514229, 832040, 1346269, 2178309, 3524578]\n",
      "4613732\n"
     ]
    }
   ],
   "source": [
    "### Problem 2\n",
    "print('https://projecteuler.net/problem=2')\n",
    "# Solution: 4613732\n",
    "\n",
    "# Solution 1: Not Knowing About While Loops\n",
    "# First, generate the fibonacci numbers\n",
    "fib = [1,1] # Fibonacci depends on the two previous numbers, so here we set up a \"seed\" for the next numbers\n",
    "for i,x in enumerate(range(31)): # Use enumerate here because you want to look at the previous indexes. Without enumerate you don't know where to start with your indexes.\n",
    "    # The number inside enumerate is chosen by experimentation - it looks like 31 is the number that stops at 35242578 (just below 4 million).\n",
    "    fib.append(fib[i]+fib[i+1]) # i starts at 0, but we already have 2 values. Therefore, instead of looking at [i-2] and [i-1] (the standard math definition of fibonacci)\n",
    "                                # we look at [i] and [i+1].\n",
    "print(fib)\n",
    "solution = 0\n",
    "for num in fib: # Add even valued fibonacci terms\n",
    "    if num % 2 == 0: # ie even\n",
    "        solution += num\n",
    "print(solution)\n",
    "\n",
    "# Solution 2: While loops (loops if a condition is true, checked at the end of each code block)\n",
    "#             This removes the need to \"experiment\" and see what the right number in enumerate(range(x)) should be\n",
    "fib = [1,1]\n",
    "num = 2 # Next term of fibonacci\n",
    "while num < 4000000:\n",
    "    # len(fib) will return 2 on first loop\n",
    "    fib.append(num)\n",
    "    num = fib[len(fib)-2] + fib[len(fib)-1]\n",
    "    # This is setup so that it will append num, generate a new number, check if it's less than 4mil, then append again\n",
    "print(fib)\n",
    "solution = 0\n",
    "for num in fib: # Add even valued fibonacci terms\n",
    "    if num % 2 == 0: # ie even\n",
    "        solution += num\n",
    "print(solution)"
   ]
  },
  {
   "cell_type": "code",
   "execution_count": null,
   "metadata": {
    "collapsed": true
   },
   "outputs": [],
   "source": []
  }
 ],
 "metadata": {
  "kernelspec": {
   "display_name": "Python 3",
   "language": "python",
   "name": "python3"
  },
  "language_info": {
   "codemirror_mode": {
    "name": "ipython",
    "version": 3
   },
   "file_extension": ".py",
   "mimetype": "text/x-python",
   "name": "python",
   "nbconvert_exporter": "python",
   "pygments_lexer": "ipython3",
   "version": "3.6.0"
  }
 },
 "nbformat": 4,
 "nbformat_minor": 1
}
