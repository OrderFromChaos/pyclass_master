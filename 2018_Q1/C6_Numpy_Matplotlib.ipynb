{
 "cells": [
  {
   "cell_type": "code",
   "execution_count": 11,
   "metadata": {
    "collapsed": true
   },
   "outputs": [],
   "source": [
    "import numpy as np\n",
    "from urllib.request import urlopen # Importing our FTE dataset\n",
    "import timeit"
   ]
  },
  {
   "cell_type": "code",
   "execution_count": 24,
   "metadata": {
    "collapsed": false
   },
   "outputs": [],
   "source": [
    "# Since we need a dataset to start with, I'll go ahead and grab it from FiveThirtyEight's data github\n",
    "# For copying down: go to   bit.ly/2vPECXz   then copy the URL that shows up\n",
    "text = urlopen('http://raw.githubusercontent.com/fivethirtyeight/data/master/us-weather-history/KMDW.csv').read().decode('utf-8')\n",
    "with open('./KMDW.txt','w') as f:\n",
    "    f.write(text[:-1]) # The last char is a newline"
   ]
  },
  {
   "cell_type": "code",
   "execution_count": null,
   "metadata": {
    "collapsed": false
   },
   "outputs": [],
   "source": [
    "# Advantages of numpy:\n",
    "#     Fast AF operations (Backend is C something)\n",
    "#     Treat 2D data in a more natural way (row,column)\n",
    "#     Extremely easy dataset imports (from txt, csv, etc.)\n",
    "#     Is the backend for pandas\n",
    "#     Allows for element-wise addition/term setting"
   ]
  },
  {
   "cell_type": "code",
   "execution_count": 35,
   "metadata": {
    "collapsed": false
   },
   "outputs": [
    {
     "name": "stdout",
     "output_type": "stream",
     "text": [
      "[['date', 'actual_mean_temp', 'actual_min_temp', 'actual_max_temp', 'average_min_temp', 'average_max_temp', 'record_min_temp', 'record_max_temp', 'record_min_temp_year', 'record_max_temp_year', 'actual_precipitation', 'average_precipitation', 'record_precipitation\\n'], ['2014-7-1', '76', '68', '84', '67', '84', '49', '103', '1982', '1956', '0.04', '0.11', '1.23\\n'], ['2014-7-2', '66', '58', '74', '67', '84', '48', '99', '1930', '1970', '0.12', '0.10', '2.50\\n'], ['2014-7-3', '66', '57', '75', '67', '84', '50', '102', '1940', '1949', '0.05', '0.11', '1.38\\n'], ['2014-7-4', '70', '60', '79', '67', '84', '49', '101', '1940', '2012', '0.00', '0.11', '0.94\\n'], ['2014-7-5', '71', '63', '79', '67', '84', '46', '103', '1972', '2012', '0.01', '0.13', '1.18\\n'], ['2014-7-6', '78', '66', '89', '67', '84', '49', '105', '1983', '2012', '0.00', '0.12', '3.93\\n'], ['2014-7-7', '81', '72', '89', '67', '85', '48', '102', '1983', '1936', '0.48', '0.13', '1.30\\n'], ['2014-7-8', '77', '70', '84', '68', '85', '49', '106', '1934', '1936', '0.48', '0.13', '2.41\\n'], ['2014-7-9', '73', '64', '81', '68', '85', '51', '100', '1941', '1936', '0.00', '0.12', '2.43\\n']]\n"
     ]
    }
   ],
   "source": [
    "with open('./KMDW.txt','r') as f:\n",
    "    data = f.readlines()\n",
    "    for i,x in enumerate(data[:10]):\n",
    "        data[i] = x.split(',')"
   ]
  },
  {
   "cell_type": "code",
   "execution_count": 64,
   "metadata": {
    "collapsed": false
   },
   "outputs": [
    {
     "name": "stdout",
     "output_type": "stream",
     "text": [
      "19.712865852726836\n"
     ]
    }
   ],
   "source": [
    "weather = np.loadtxt('./KMDW.txt', dtype=str, \n",
    "                     delimiter=',', skiprows=1)\n",
    "# (KMDW is a weather station in Chicago)\n",
    "# Need to do this so that date imports properly\n",
    "# In numpy, you have a 2D thing. \n",
    "# That means you have to send in multiple slicing indices\n",
    "# We're going to do this to remove the date and reformat the number columns\n",
    "# Column meanings:\n",
    "#    date,actual_mean_temp,actual_min_temp,actual_max_temp,average_min_temp,average_max_temp,\n",
    "#    record_min_temp,record_max_temp,record_min_temp_year,record_max_temp_year,actual_precipitation,average_precipitation,\n",
    "#    record_precipitation\n",
    "weather = weather[:,1:] # Rows, columns\n",
    "weather = weather.astype(float)\n",
    "\n",
    "print(weather[:,1].std())\n",
    "# Stuff: maxima, standard deviation over range, indexing, etc."
   ]
  },
  {
   "cell_type": "code",
   "execution_count": null,
   "metadata": {
    "collapsed": true
   },
   "outputs": [],
   "source": [
    "# List comprehensions\n",
    "dataset = list(range(1,100))\n",
    "soln = 1\n",
    "for i in dataset:\n",
    "    soln *= i\n",
    "print(soln)\n",
    "\n",
    "digitsum = 0\n",
    "for i in str(soln):\n",
    "    digitsum += int(i)\n",
    "print(digitsum)\n",
    "\n",
    "# List comprehensions start here\n",
    "\n",
    "y = [1,2,3]\n",
    "print([x for x in y])\n",
    "print(sum([int(x) for x in str(soln)]))\n",
    "\n",
    "setup_factorial = '''dataset = list(range(1,100))\n",
    "soln = 1\n",
    "for i in dataset:\n",
    "    soln *= i'''\n",
    "\n",
    "traditional_method = '''digitsum = 0\n",
    "for i in str(soln):\n",
    "    digitsum += int(i)'''\n",
    "\n",
    "list_comprehensions = '''sum([int(x) for x in str(soln)])'''\n",
    "\n",
    "iterations = 10000\n",
    "print(timeit.timeit(setup=setup_factorial ,stmt=traditional_method, number=iterations))\n",
    "print(timeit.timeit(setup=setup_factorial ,stmt=list_comprehensions, number=iterations))\n",
    "\n",
    "gen_data = [1,2,3,None,5,6,7,8]\n",
    "gen_data = [x for x in gen_data if type(x) == int]\n",
    "print(gen_data)\n",
    "print(sum(gen_data))"
   ]
  },
  {
   "cell_type": "code",
   "execution_count": 62,
   "metadata": {
    "collapsed": false
   },
   "outputs": [
    {
     "name": "stdout",
     "output_type": "stream",
     "text": [
      "933262154439441526816992388562667004907159682643816214685929638952175999932299156089414639761565182862536979208272237582511852109168640000000000000000000000\n",
      "648\n",
      "[1, 2, 3]\n",
      "648\n",
      "0.38686319113003265\n",
      "0.3832515425156089\n",
      "[1, 2, 3, 5, 6, 7, 8]\n",
      "32\n",
      "[[], [0], [0, 1], [0, 1, 2], [0, 1, 2, 3], [0, 1, 2, 3, 4], [0, 1, 2, 3, 4, 5], [0, 1, 2, 3, 4, 5, 6], [0, 1, 2, 3, 4, 5, 6, 7], [0, 1, 2, 3, 4, 5, 6, 7, 8]]\n"
     ]
    }
   ],
   "source": [
    "lists_inside_lists = [[x for x in range(y)] for y in range(10)]\n",
    "for i in n:\n",
    "    for j in m:\n",
    "        print()\n",
    "print(lists_inside_lists)"
   ]
  },
  {
   "cell_type": "code",
   "execution_count": 38,
   "metadata": {
    "collapsed": false
   },
   "outputs": [
    {
     "name": "stdout",
     "output_type": "stream",
     "text": [
      "0.0004495795365073718\n",
      "0.001173726539946074\n"
     ]
    }
   ],
   "source": [
    "np_setup = '''import numpy as np\n",
    "weather = np.loadtxt('./KMDW.txt',dtype=str,delimiter=',',skiprows=1)[:,1].astype(float)'''\n",
    "\n",
    "list_setup = '''import numpy as np\n",
    "weather = np.loadtxt('./KMDW.txt',dtype=str,delimiter=',',skiprows=1)[:,1].astype(float).tolist()'''\n",
    "\n",
    "iterations = 100\n",
    "print(timeit.timeit(setup=np_setup,stmt='weather.max()', number=iterations))\n",
    "print(timeit.timeit(setup=list_setup,stmt='max(weather)', number=iterations))"
   ]
  },
  {
   "cell_type": "code",
   "execution_count": 43,
   "metadata": {
    "collapsed": false
   },
   "outputs": [
    {
     "name": "stdout",
     "output_type": "stream",
     "text": [
      "357.55624885844753\n"
     ]
    }
   ],
   "source": [
    "print(weather.mean())"
   ]
  },
  {
   "cell_type": "code",
   "execution_count": 63,
   "metadata": {
    "collapsed": false
   },
   "outputs": [
    {
     "data": {
      "text/plain": [
       "['this', 'is', 'a', 'sentence']"
      ]
     },
     "execution_count": 63,
     "metadata": {},
     "output_type": "execute_result"
    }
   ],
   "source": [
    "'this is a sentence'.split(' ')"
   ]
  },
  {
   "cell_type": "code",
   "execution_count": null,
   "metadata": {
    "collapsed": true
   },
   "outputs": [],
   "source": []
  }
 ],
 "metadata": {
  "anaconda-cloud": {},
  "kernelspec": {
   "display_name": "Python [default]",
   "language": "python",
   "name": "python3"
  },
  "language_info": {
   "codemirror_mode": {
    "name": "ipython",
    "version": 3
   },
   "file_extension": ".py",
   "mimetype": "text/x-python",
   "name": "python",
   "nbconvert_exporter": "python",
   "pygments_lexer": "ipython3",
   "version": "3.5.2"
  }
 },
 "nbformat": 4,
 "nbformat_minor": 2
}
