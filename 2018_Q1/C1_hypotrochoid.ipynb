{
 "cells": [
  {
   "cell_type": "code",
   "execution_count": 1,
   "metadata": {
    "collapsed": true
   },
   "outputs": [],
   "source": [
    "import pyautogui as pa # Mouse control\n",
    "import math            # Setting up the parametric equations\n",
    "import numpy as np     # Some loop stuff"
   ]
  },
  {
   "cell_type": "code",
   "execution_count": 7,
   "metadata": {
    "collapsed": false
   },
   "outputs": [],
   "source": [
    "### Important functions\n",
    "# pa.moveTo (move mouse)\n",
    "# pa.dragTo (drag mouse - draw)\n",
    "# math.cos\n",
    "# math.sin\n",
    "# pa.position\n",
    "\n",
    "# To run this, make sure that you alt-tab to a drawing window within 1 second. For example, have Paint as your last active window.\n",
    "# Then run this and alt-tab to Paint while the mouse is still moving to the screen center.\n",
    "\n",
    "CENTER = [588,378]\n",
    "### Hyperparameters\n",
    "A = 10\n",
    "B = 593/173\n",
    "H = 189/45\n",
    "T_QUALITY = 0.1\n",
    "SCALING = 22\n",
    "\n",
    "pa.moveTo(CENTER[0] + SCALING*((A-B)*math.cos(0) + H*math.cos((A-B)/B*0)),\n",
    "            CENTER[1] + SCALING*((A-B)*math.sin(0) - H*math.sin((A-B)/B*0)),\n",
    "         duration=1)\n",
    "\n",
    "for t in np.arange(0.0,45.0,T_QUALITY): # Go up by values of T_QUALITY\n",
    "    pa.dragTo(CENTER[0] + SCALING*((A-B)*math.cos(t) + H*math.cos((A-B)/B*t)),\n",
    "              CENTER[1] + SCALING*((A-B)*math.sin(t) - H*math.sin((A-B)/B*t)))"
   ]
  },
  {
   "cell_type": "code",
   "execution_count": null,
   "metadata": {
    "collapsed": true
   },
   "outputs": [],
   "source": []
  }
 ],
 "metadata": {
  "anaconda-cloud": {},
  "kernelspec": {
   "display_name": "Python 3",
   "language": "python",
   "name": "python3"
  },
  "language_info": {
   "codemirror_mode": {
    "name": "ipython",
    "version": 3
   },
   "file_extension": ".py",
   "mimetype": "text/x-python",
   "name": "python",
   "nbconvert_exporter": "python",
   "pygments_lexer": "ipython3",
   "version": "3.6.0"
  }
 },
 "nbformat": 4,
 "nbformat_minor": 1
}
