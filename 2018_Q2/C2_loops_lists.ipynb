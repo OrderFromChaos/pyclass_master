{
 "cells": [
  {
   "cell_type": "code",
   "execution_count": 11,
   "metadata": {
    "collapsed": false
   },
   "outputs": [
    {
     "name": "stdout",
     "output_type": "stream",
     "text": [
      "Should be -2.06261\n"
     ]
    },
    {
     "data": {
      "text/plain": [
       "-2.062611870820258"
      ]
     },
     "execution_count": 11,
     "metadata": {},
     "output_type": "execute_result"
    }
   ],
   "source": [
    "### Step 0: Solution to last week's homework\n",
    "# I don't want to get too deeply into HW solutions\n",
    "# because of time constraints, so I'll just write it\n",
    "# up here, give a basic rundown, and if you have any more\n",
    "# questions, write your question down and email me later.\n",
    "# This will be the general modus operandi in the weeks to come.\n",
    "\n",
    "# The functions I didn't tell you were exp() and abs().\n",
    "# The Python versions of these are math.exp() and abs().\n",
    "# A neat extra trick I'll probably use occasionally in\n",
    "# later lectures: any function can have another name given\n",
    "# to it.\n",
    "import math\n",
    "sin = math.sin\n",
    "cos = math.cos\n",
    "exp = math.exp\n",
    "sqrt = math.sqrt # This can also be done with (** 0.5)\n",
    "pi = math.pi\n",
    "\n",
    "def cross_in_tray(x,y):\n",
    "    return -0.0001*(abs(sin(x)*sin(y)*exp(abs(100-\n",
    "                            sqrt(x**2+y**2)/pi)))+1)**0.1\n",
    "\n",
    "print('Should be -2.06261')\n",
    "cross_in_tray(1.34941,-1.34941)\n",
    "\n",
    "# Learning to look up syntax well is one of the most\n",
    "# important things you can do to learn a language.\n",
    "# Inevitably, I won't be able to teach you everything in\n",
    "# limited time. You'll have to do your own research\n",
    "# to learn about some functions and structures"
   ]
  },
  {
   "cell_type": "code",
   "execution_count": null,
   "metadata": {
    "collapsed": false
   },
   "outputs": [],
   "source": [
    "### Step 1: Basic intro to Jupyter\n",
    "# Compare to IDLE/\"normal\" Python IDE\n",
    "# Shift + Enter to Run\n",
    "# Insert cells before/after under Insert\n",
    "# Delete cells under Edit\n",
    "# Split cells under Edit\n",
    "# If shit goes really wrong, Kernel -> Interrupt\n",
    "# Old variables Kernel -> Restart\n",
    "\n",
    "def innocuous_function():\n",
    "    # There are some situations where\n",
    "    # you'll want to do this - we'll talk\n",
    "    # about this later on (maybe)\n",
    "    try:\n",
    "        innocuous_function()\n",
    "    except RecursionError:\n",
    "        innocuous_function()\n",
    "    return True\n",
    "\n",
    "innocuous_function()"
   ]
  },
  {
   "cell_type": "code",
   "execution_count": null,
   "metadata": {
    "collapsed": true
   },
   "outputs": [],
   "source": [
    "### QUESTIONS BREAK ###"
   ]
  },
  {
   "cell_type": "code",
   "execution_count": 13,
   "metadata": {
    "collapsed": false
   },
   "outputs": [
    {
     "name": "stdout",
     "output_type": "stream",
     "text": [
      "['Daimler', 'Toyota', 'Ford', 'Volkswagen']\n"
     ]
    }
   ],
   "source": [
    "# Step 2: Back to lists\n",
    "# First, you can add new items to a list using .append\n",
    "car_companies = ['Daimler','Toyota','Ford']\n",
    "car_companies.append('Volkswagen')\n",
    "print(car_companies)"
   ]
  },
  {
   "cell_type": "code",
   "execution_count": 14,
   "metadata": {
    "collapsed": false
   },
   "outputs": [
    {
     "name": "stdout",
     "output_type": "stream",
     "text": [
      "[18.85379233648495, -8.49822792852998, 15.725266722079176, -16.918730258449695, 19.99536583730948, 0.6538192383469692, 16.561194600983427]\n"
     ]
    }
   ],
   "source": [
    "import random\n",
    "def some_magic_you_havent_learned_yet():\n",
    "    return [random.random()*40-20 for x in range(7)]\n",
    "\n",
    "dataset = some_magic_you_havent_learned_yet()\n",
    "print(dataset)\n",
    "# There are situations where you'll want to apply\n",
    "# some function to a bunch of numbers like this.\n",
    "# You could describe this as wanting to do a function\n",
    "# FOR each element in the list.\n",
    "### SET NOTATION"
   ]
  },
  {
   "cell_type": "code",
   "execution_count": 16,
   "metadata": {
    "collapsed": false
   },
   "outputs": [
    {
     "name": "stdout",
     "output_type": "stream",
     "text": [
      "18.85379233648495\n",
      "-8.49822792852998\n",
      "15.725266722079176\n",
      "-16.918730258449695\n",
      "19.99536583730948\n",
      "0.6538192383469692\n",
      "16.561194600983427\n"
     ]
    }
   ],
   "source": [
    "# Note that this whitespace (which automatically shows up) is\n",
    "############ IMPORTANT ############\n",
    "# Draw a for loop on the board with a bunch of swirls\n",
    "# This is where you imagine you're a robot doing the code\n",
    "for term in dataset:\n",
    "    print(term)"
   ]
  },
  {
   "cell_type": "code",
   "execution_count": 10,
   "metadata": {
    "collapsed": false
   },
   "outputs": [
    {
     "name": "stdout",
     "output_type": "stream",
     "text": [
      "[-17.872765124924378, -12.036596382174892, 17.03970082869408, -6.721061663746051, -14.833327471070476, 13.974460701274182, -9.588298172157597]\n",
      "[319.4357332107131, 144.8796524673857, 290.3514043313977, 45.17266988787683, 220.02760386401403, 195.28555189145652, 91.93546183820071]\n"
     ]
    }
   ],
   "source": [
    "# Concept of the sliding pointer variable\n",
    "def f(var):\n",
    "    return var ** 2\n",
    "\n",
    "new_dataset = []\n",
    "for x in dataset:\n",
    "    new_dataset.append( f(x) )\n",
    "\n",
    "print(dataset)\n",
    "print(new_dataset)\n",
    "# Comparison to the variable approach - much faster"
   ]
  },
  {
   "cell_type": "code",
   "execution_count": 19,
   "metadata": {
    "collapsed": false
   },
   "outputs": [
    {
     "name": "stdout",
     "output_type": "stream",
     "text": [
      "[645439.59, 754609.97, 924025.27, 1150579.0, 651019.82, 1232129.38, 920999.12, 1478417.19]\n",
      "[143007.84, 113625.05, 128633.47, 101758.67, 114455.2, 108977.13, 73906.09, 93651.18]\n",
      "[7449.64, 8675.03, 13615.63, 9214.75, 12603.37, 7715.36, 7545.51, 9148.46]\n"
     ]
    }
   ],
   "source": [
    "### Step 3: Basic indices in application\n",
    "# While the above approach is neat, it has limited use\n",
    "# For example, imagine I have a bunch of two-body gravity systems\n",
    "# (Write out gravitational acceleration on the board)\n",
    "# And I want to compute the gravitational acceleration of each\n",
    "def magic_planet_data(seed):\n",
    "    return [round(random.random()*10000*seed+5000*seed,2) for x in range(8)]\n",
    "\n",
    "asteroids_1 = magic_planet_data(100)\n",
    "asteroids_2 = magic_planet_data(10)\n",
    "distances = magic_planet_data(1)\n",
    "print(asteroids_1)\n",
    "print(asteroids_2)\n",
    "print(distances)\n",
    "# So for each 0th element in asteroids_1,\n",
    "# I find the gravitational acceleration with asteroids_2\n",
    "# According to the distances between them\n",
    "# Then I place that into a new list: asteroid_accel"
   ]
  },
  {
   "cell_type": "code",
   "execution_count": 31,
   "metadata": {
    "collapsed": false
   },
   "outputs": [
    {
     "name": "stdout",
     "output_type": "stream",
     "text": [
      "792.4457338344037\n",
      "9.819649737724951\n"
     ]
    }
   ],
   "source": [
    "asteroid_accel = []\n",
    "\n",
    "def grav_accel(m1,m2,r):\n",
    "    G = 6.67408*10**-11\n",
    "    return G*m1*m2/(r**2)\n",
    "\n",
    "# In general, we should always check that our functions\n",
    "# are working for realistic physical scenarios\n",
    "american = 80.7 # kg\n",
    "earth = 5.972*10**24 # kg\n",
    "radius = 6371*10**3 # m\n",
    "print(grav_accel(american,earth,radius))\n",
    "\n",
    "# Corrected grav_accel:\n",
    "def grav_accel2(m,r):\n",
    "    G = 6.67408*10**-11\n",
    "    return G*m/(r**2)\n",
    "\n",
    "print(grav_accel2(earth,radius))"
   ]
  },
  {
   "cell_type": "code",
   "execution_count": null,
   "metadata": {
    "collapsed": true
   },
   "outputs": [],
   "source": []
  },
  {
   "cell_type": "code",
   "execution_count": 20,
   "metadata": {
    "collapsed": false
   },
   "outputs": [
    {
     "name": "stdout",
     "output_type": "stream",
     "text": [
      ":(\n",
      ":(\n",
      ":(\n",
      ":(\n",
      ":(\n",
      ":(\n",
      ":(\n",
      ":(\n"
     ]
    }
   ],
   "source": [
    "for x in asteroids_1:\n",
    "    # I only have access to asteroids_1 right now, but\n",
    "    # I need access to asteroids_2 and distances to compute\n",
    "    print(':(')"
   ]
  },
  {
   "cell_type": "code",
   "execution_count": 21,
   "metadata": {
    "collapsed": false
   },
   "outputs": [
    {
     "name": "stdout",
     "output_type": "stream",
     "text": [
      "Reminder:\n",
      "1 5\n"
     ]
    }
   ],
   "source": [
    "# The answer? The simple indexing from last week, plus\n",
    "# the \"enumerate\" function - keeps track of the index\n",
    "# the for loop is on currently.\n",
    "print('Reminder:')\n",
    "data = [1,2,3,4,5]\n",
    "print(data[0],data[4])"
   ]
  },
  {
   "cell_type": "code",
   "execution_count": 33,
   "metadata": {
    "collapsed": false
   },
   "outputs": [
    {
     "name": "stdout",
     "output_type": "stream",
     "text": [
      "[1.719810843136707e-13, 1.0076820552747159e-13, 4.630948071971326e-14, 7.998263650715504e-14, 4.8089865723428477e-14, 1.2218401275032438e-13, 8.663521083385481e-14, 7.468075069362691e-14]\n"
     ]
    }
   ],
   "source": [
    "asteroid_accel = []\n",
    "\n",
    "def grav_accel(m1,m2,r):\n",
    "    G = 6.67408*10**-11\n",
    "    return G*m1*m2/(r**2)\n",
    "\n",
    "for i,x in enumerate(asteroids_1): # Standard notation\n",
    "    # print(asteroids_1[i],asteroids_2[i],distances[i])\n",
    "    # Now to actually do it\n",
    "    asteroid_accel.append(grav_accel2(asteroids_2[i],distances[i]))\n",
    "print(asteroid_accel)\n",
    "\n",
    "# Context: 645k kg is 1/3rd space shuttle launch mass"
   ]
  },
  {
   "cell_type": "code",
   "execution_count": null,
   "metadata": {
    "collapsed": true
   },
   "outputs": [],
   "source": [
    "### more stuff if more time:\n",
    "# directly changing a list\n",
    "# stuff like mean, standard deviation, etc.\n",
    "# **~~ list comprehensions! ~~**"
   ]
  },
  {
   "cell_type": "code",
   "execution_count": null,
   "metadata": {
    "collapsed": true
   },
   "outputs": [],
   "source": []
  },
  {
   "cell_type": "code",
   "execution_count": null,
   "metadata": {
    "collapsed": true
   },
   "outputs": [],
   "source": []
  },
  {
   "cell_type": "code",
   "execution_count": 34,
   "metadata": {
    "collapsed": true
   },
   "outputs": [],
   "source": []
  },
  {
   "cell_type": "code",
   "execution_count": null,
   "metadata": {
    "collapsed": true
   },
   "outputs": [],
   "source": []
  },
  {
   "cell_type": "code",
   "execution_count": null,
   "metadata": {
    "collapsed": true
   },
   "outputs": [],
   "source": []
  },
  {
   "cell_type": "code",
   "execution_count": null,
   "metadata": {
    "collapsed": true
   },
   "outputs": [],
   "source": []
  },
  {
   "cell_type": "code",
   "execution_count": null,
   "metadata": {
    "collapsed": true
   },
   "outputs": [],
   "source": []
  },
  {
   "cell_type": "code",
   "execution_count": null,
   "metadata": {
    "collapsed": true
   },
   "outputs": [],
   "source": []
  },
  {
   "cell_type": "code",
   "execution_count": null,
   "metadata": {
    "collapsed": true
   },
   "outputs": [],
   "source": []
  },
  {
   "cell_type": "code",
   "execution_count": null,
   "metadata": {
    "collapsed": true
   },
   "outputs": [],
   "source": [
    "# Idea for lecture with strings/regex\n",
    "# Do some replacements of \"fuck\" to \"f--k\" in literature"
   ]
  }
 ],
 "metadata": {
  "anaconda-cloud": {},
  "kernelspec": {
   "display_name": "Python 3",
   "language": "python",
   "name": "python3"
  },
  "language_info": {
   "codemirror_mode": {
    "name": "ipython",
    "version": 3
   },
   "file_extension": ".py",
   "mimetype": "text/x-python",
   "name": "python",
   "nbconvert_exporter": "python",
   "pygments_lexer": "ipython3",
   "version": "3.6.0"
  }
 },
 "nbformat": 4,
 "nbformat_minor": 2
}
