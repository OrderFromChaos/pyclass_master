{
 "cells": [
  {
   "cell_type": "code",
   "execution_count": null,
   "metadata": {
    "collapsed": true
   },
   "outputs": [],
   "source": [
    "# 1. Palindrome checker\n",
    "# Are these phrases palindromes? (Read same forward and backwards)\n",
    "phrases = ['do geese see god', 'mr owl eats my metal worm', 'redivider']\n",
    "# The spaces are irrelevant, so we'll do so magic to remove those first\n",
    "import re # Regular expressions\n",
    "phrases = [re.sub(' ','',phrase) for phrase in phrases]\n",
    "\n",
    "###### YOUR CODE HERE\n",
    "\n",
    "# Things to use:\n",
    "# if statements\n",
    "# indexing\n",
    "\n",
    "# Should print one of these two:\n",
    "# 'Phrase is a palindrome'\n",
    "# 'Phrase is not a palindrome'\n",
    "\n",
    "# Solution\n",
    "for i in phrases:\n",
    "    if i == i[::-1]:\n",
    "        print('Phrase is a palindrome')\n",
    "    else:\n",
    "        print('Phrase is not a palindrome')\n",
    "\n",
    "# Note to self: Probably don't do this in class\n",
    "# Side note: a bizarre structure which hints at something deeper\n",
    "# for i in phrases:\n",
    "#     print(['Phrase is not a palindrome','Phrase is a palindrome'][i == i[::-1]])"
   ]
  },
  {
   "cell_type": "code",
   "execution_count": null,
   "metadata": {
    "collapsed": false
   },
   "outputs": [],
   "source": [
    "### 2. Interesting looking print\n",
    "# Don't copy this {\n",
    "import pickle\n",
    "with open('magic_code.txt','rb') as f:\n",
    "    magic = pickle.load(f)\n",
    "exec(magic)\n",
    "# }\n",
    "\n",
    "# Try and replicate what this code does\n",
    "# You can think of it as n spaces + 'Hello'\n",
    "# My solution used a list comprehension and .join\n",
    "\n",
    "# Shortest solution\n",
    "for i in range(20):\n",
    "    print(''.join([' ' for space in range(i)]) + 'Hello')"
   ]
  },
  {
   "cell_type": "markdown",
   "metadata": {},
   "source": [
    "![Bukin Function](https://upload.wikimedia.org/wikipedia/commons/thumb/a/a0/Bukin_function_6.pdf/page1-800px-Bukin_function_6.pdf.jpg)\n",
    "$$\\text{Bukin Function}$$\n",
    "$$f(x,y) = 100\\sqrt{{\\rvert}y-0.01x^2{\\rvert}}+0.01{\\lvert}x+10{\\rvert}$$"
   ]
  },
  {
   "cell_type": "code",
   "execution_count": 38,
   "metadata": {
    "collapsed": false
   },
   "outputs": [
    {
     "name": "stdout",
     "output_type": "stream",
     "text": [
      "-30 283.042712474619\n",
      "-26 240.16\n",
      "-22 196.07917942265425\n",
      "-18 149.74629547095768\n",
      "-14 98.01958971132713\n",
      "-10 0.0\n",
      "-6 80.04\n",
      "-2 98.05958971132712\n",
      "2 98.09958971132713\n",
      "6 80.16\n",
      "10 0.2\n"
     ]
    }
   ],
   "source": [
    "### 3. Write this function in Python using math.abs() and math.sqrt()\n",
    "# Then try testing (x,1), where x is in the range -30 to 10 with a step of 4\n",
    "\n",
    "# Things to use:\n",
    "# math.sqrt\n",
    "# math.fabs\n",
    "# function definitions\n",
    "\n",
    "# Solution\n",
    "import math\n",
    "def bukin_function(x,y):\n",
    "    return 100*math.sqrt(math.fabs(y-0.01*x**2))+0.01*math.fabs(x+10)\n",
    "y = 1\n",
    "for x in range(-30,11,4):\n",
    "    print(x,bukin_function(x,y))"
   ]
  },
  {
   "cell_type": "code",
   "execution_count": 41,
   "metadata": {
    "collapsed": false,
    "scrolled": false
   },
   "outputs": [
    {
     "name": "stdout",
     "output_type": "stream",
     "text": [
      "[101, 101, 101, 101, 101, 101, 101, 101, 101, 101, 101, 101, 101, 101, 101, 101, 101, 101, 101, 101, 101, 101, 101, 101, 101, 101, 101, 101, 101, 101, 101, 101, 101, 101, 101, 101, 101, 101, 101, 101, 101, 101, 101, 101, 101, 101, 101, 101, 101, 101, 101, 101, 101, 101, 101, 101, 101, 101, 101, 101, 101, 101, 101, 101, 101, 101, 101, 101, 101, 101, 101, 101, 101, 101, 101, 101, 101, 101, 101, 101, 101, 101, 101, 101, 101, 101, 101, 101, 101, 101, 101, 101, 101, 101, 101, 101, 101, 101, 101, 101]\n",
      "[101, 101, 101, 101, 101, 101, 101, 101, 101, 101, 101, 101, 101, 101, 101, 101, 101, 101, 101, 101, 101, 101, 101, 101, 101, 101, 101, 101, 101, 101, 101, 101, 101, 101, 101, 101, 101, 101, 101, 101, 101, 101, 101, 101, 101, 101, 101, 101, 101, 101, 101, 101, 101, 101, 101, 101, 101, 101, 101, 101, 101, 101, 101, 101, 101, 101, 101, 101, 101, 101, 101, 101, 101, 101, 101, 101, 101, 101, 101, 101, 101, 101, 101, 101, 101, 101, 101, 101, 101, 101, 101, 101, 101, 101, 101, 101, 101, 101, 101, 101]\n"
     ]
    }
   ],
   "source": [
    "### 4. Using zip to illuminate Gauss' childhood story\n",
    "# First, create a list that goes from 1 to 100.\n",
    "# Then, create a list that goes from 100 to 1.\n",
    "# Now use zip and a new list to add them together.\n",
    "# Print the new list and see if there's anything interesting you notice...\n",
    "\n",
    "# Things to use:\n",
    "# list()\n",
    "# range()\n",
    "# zip()\n",
    "\n",
    "# Solution\n",
    "one_to_hundred = list(range(1,101))\n",
    "hundred_to_one = list(range(100,0,-1))\n",
    "new = []\n",
    "for f,b in zip(one_to_hundred,hundred_to_one):\n",
    "    new.append(f+b)\n",
    "print(new)\n",
    "# Alternate list comprehension way\n",
    "print([f+b for f,b in zip(list(range(1,101)),list(range(100,0,-1)))])"
   ]
  },
  {
   "cell_type": "code",
   "execution_count": 68,
   "metadata": {
    "collapsed": false
   },
   "outputs": [
    {
     "name": "stdout",
     "output_type": "stream",
     "text": [
      "It's not recommended to buy from market 1. Market 1 costs this much more than market 2: 1.3303628806360734\n"
     ]
    }
   ],
   "source": [
    "### 5. Trading idea: arbitrage\n",
    "# Arbitrage is when a good is priced differently in one market than the other\n",
    "# Lots of profitable trading firms take advantage of small-scale arbitrage all around the world\n",
    "# General idea:\n",
    "# 1. You'll get two price quotes in the form of strings\n",
    "# 2. Cut those out and turn them into numbers\n",
    "# 3. Then compare the quote in market 1 to the quote in market 2\n",
    "#    and make a buy or sell recommendation\n",
    "# 4. Note that the first is the buy price and the second is the sell price\n",
    "import random\n",
    "quote_market_1 = 'The buy price for 10kg salmon in Syldavia is $' + str(random.random()*100) + '.'\n",
    "quote_market_2 = 'The sell price for 10kg salmon in Sovokia is $' + str(random.random()*50+50) + '.'\n",
    "\n",
    "# Things to use:\n",
    "# Indexing\n",
    "# .index\n",
    "# if, elif, and/or else\n",
    "# float()\n",
    "\n",
    "# Solution\n",
    "# Easy way\n",
    "price1 = float(quote_market_1[quote_market_1.index('$')+1:-1])\n",
    "price2 = float(quote_market_2[quote_market_1.index('$')+1:-1])\n",
    "# Slightly harder way (you have to count)\n",
    "price1 = float(quote_market_1[46:-1])\n",
    "price2 = float(quote_market_2[46:-1])\n",
    "if price1 < price2:\n",
    "    print('I recommend buying from market 1. Here\\'s the profit you can make per item:',price2-price1)\n",
    "elif price1 > price2:\n",
    "    print('It\\'s not recommended to buy from market 1. Market 1 costs this much more than market 2:',price1-price2)"
   ]
  },
  {
   "cell_type": "code",
   "execution_count": 75,
   "metadata": {
    "collapsed": false
   },
   "outputs": [
    {
     "data": {
      "text/plain": [
       "1"
      ]
     },
     "execution_count": 75,
     "metadata": {},
     "output_type": "execute_result"
    }
   ],
   "source": [
    "### 6. A tricky problem: Cyclic lists\n",
    "# Lists don't allow you to index things outside of the maximum list index.\n",
    "# Example:\n",
    "# data = [1,2,5,4,3]\n",
    "# data[5]\n",
    "# >>> IndexError: list index out of range\n",
    "# Let's write a function that will allow us to to grab terms as if the list connected to itself at the end.\n",
    "# For example, data[5] would return 1. It went past 3 and went back to the start of the list.\n",
    "\n",
    "# Here's something to chew on: what sort of math would give you the\n",
    "# index you want from the bigger-than-the-list index?\n",
    "\n",
    "# (Work your way to remainders, which also known as modulo)\n",
    "\n",
    "# Solution\n",
    "def cyclic_index(data,index):\n",
    "    return data[index%len(data)]\n",
    "\n",
    "cyclic_index([1,2,3,4,5],5)"
   ]
  },
  {
   "cell_type": "code",
   "execution_count": 69,
   "metadata": {
    "collapsed": false
   },
   "outputs": [
    {
     "name": "stdout",
     "output_type": "stream",
     "text": [
      "\n",
      "66\n",
      "25\n",
      "and doodle enough rhymes\n"
     ]
    }
   ],
   "source": [
    "print()\n",
    "### 7. Grab information from string\n",
    "# Here's a bit of a time-saving speedup.\n",
    "# If you're trying to grab some sort of information from a string and you\n",
    "# don't want to count how many characters before the thing you want is,\n",
    "# here's a tip!\n",
    "kinda_long_string = 'So I wanna make sure, somewhere in this chicken scratch I scribble; and doodle enough rhymes; To maybe try to help get some people through tough times'\n",
    "# Let's say we want to pull out the phrase between the semicolons, so we can look up the indices this way:\n",
    "print(kinda_long_string.index(';'))\n",
    "# Note that this only finds the first instance of the thing so we'll have to repaste the later phrase\n",
    "print(' and doodle enough rhymes; To maybe try to help get some people through tough times'.index(';'))\n",
    "print(kinda_long_string[67+1:67+25])\n",
    "# Now repeat this process for another thing\n",
    "# High teaching to creativity ratio; I'm aiming for a low ratio (so stopping dev)"
   ]
  },
  {
   "cell_type": "code",
   "execution_count": null,
   "metadata": {
    "collapsed": true
   },
   "outputs": [],
   "source": []
  }
 ],
 "metadata": {
  "anaconda-cloud": {},
  "kernelspec": {
   "display_name": "Python [default]",
   "language": "python",
   "name": "python3"
  },
  "language_info": {
   "codemirror_mode": {
    "name": "ipython",
    "version": 3
   },
   "file_extension": ".py",
   "mimetype": "text/x-python",
   "name": "python",
   "nbconvert_exporter": "python",
   "pygments_lexer": "ipython3",
   "version": "3.5.2"
  }
 },
 "nbformat": 4,
 "nbformat_minor": 2
}
