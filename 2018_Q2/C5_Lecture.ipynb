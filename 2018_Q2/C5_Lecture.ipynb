{
 "cells": [
  {
   "cell_type": "code",
   "execution_count": 2,
   "metadata": {
    "collapsed": false
   },
   "outputs": [
    {
     "name": "stdout",
     "output_type": "stream",
     "text": [
      "Phrase is a palindrome\n",
      "Phrase is not a palindrome\n",
      "Phrase is a palindrome\n"
     ]
    }
   ],
   "source": [
    "# 1. Palindrome checker\n",
    "phrases = ['do geese see god','mr owl eats my metal worm','redivider']\n",
    "# Remove spaces\n",
    "import re\n",
    "phrases = [re.sub(' ','',phrase) for phrase in phrases]\n",
    "\n",
    "### YOUR CODE HERE\n",
    "for thing in phrases:\n",
    "    if thing == thing[::-1]:\n",
    "        print('Phrase is a palindrome')\n",
    "    else:\n",
    "        print('Phrase is not a palindrome')\n",
    "        \n",
    "\n",
    "\n",
    "# Print either:\n",
    "# 'Phrase is a palindrome'\n",
    "# 'Phrase is NOT a palindrome'"
   ]
  },
  {
   "cell_type": "code",
   "execution_count": null,
   "metadata": {
    "collapsed": true
   },
   "outputs": [],
   "source": []
  }
 ],
 "metadata": {
  "kernelspec": {
   "display_name": "Python [conda root]",
   "language": "python",
   "name": "conda-root-py"
  },
  "language_info": {
   "codemirror_mode": {
    "name": "ipython",
    "version": 3
   },
   "file_extension": ".py",
   "mimetype": "text/x-python",
   "name": "python",
   "nbconvert_exporter": "python",
   "pygments_lexer": "ipython3",
   "version": "3.5.2"
  }
 },
 "nbformat": 4,
 "nbformat_minor": 1
}
