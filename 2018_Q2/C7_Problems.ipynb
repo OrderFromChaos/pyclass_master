{
 "cells": [
  {
   "cell_type": "code",
   "execution_count": 16,
   "metadata": {
    "collapsed": false
   },
   "outputs": [
    {
     "name": "stdout",
     "output_type": "stream",
     "text": [
      "5050\n",
      "[101, 101, 101, 101, 101, 101, 101, 101, 101, 101, 101, 101, 101, 101, 101, 101, 101, 101, 101, 101, 101, 101, 101, 101, 101, 101, 101, 101, 101, 101, 101, 101, 101, 101, 101, 101, 101, 101, 101, 101, 101, 101, 101, 101, 101, 101, 101, 101, 101, 101, 101, 101, 101, 101, 101, 101, 101, 101, 101, 101, 101, 101, 101, 101, 101, 101, 101, 101, 101, 101, 101, 101, 101, 101, 101, 101, 101, 101, 101, 101, 101, 101, 101, 101, 101, 101, 101, 101, 101, 101, 101, 101, 101, 101, 101, 101, 101, 101, 101, 101]\n",
      "[0, 1, 2, 3, 4, 5, 6, 7, 8, 9]\n"
     ]
    }
   ],
   "source": [
    "### SYNTAX ###\n",
    "# list()\n",
    "# range()\n",
    "# zip()\n",
    "# .append()\n",
    "\n",
    "# First, create a list that goes from 1 to 100\n",
    "# Then, create a list that goes from 100 to 1\n",
    "# Now use zip to add these lists together and put them into a new one\n",
    "# Print the new list\n",
    "one_to_hundred = list(range(1,101))\n",
    "hundred_to_one = list(range(100,0,-1))\n",
    "new = []\n",
    "for f,b in zip(one_to_hundred,hundred_to_one):\n",
    "    new.append(f+b)\n",
    "print(int(sum(new)/2))\n",
    "print([f+b for f,b in zip(list(range(1,101)),list(range(100,0,-1)))])\n",
    "print([x for x in range(10)])"
   ]
  },
  {
   "cell_type": "code",
   "execution_count": 23,
   "metadata": {
    "collapsed": false
   },
   "outputs": [
    {
     "name": "stdout",
     "output_type": "stream",
     "text": [
      "[range(0, 10), range(0, 11)]\n",
      "[[0, 1, 2, 3, 4, 5, 6, 7, 8, 9], [0, 1, 2, 3, 4, 5, 6, 7, 8, 9, 10]]\n",
      "[<built-in function sum>]\n",
      "[<function f at 0x0000017799804EA0>]\n",
      "[[], [0], [0, 1], [0, 1, 2], [0, 1, 2, 3], [0, 1, 2, 3, 4], [0, 1, 2, 3, 4, 5], [0, 1, 2, 3, 4, 5, 6], [0, 1, 2, 3, 4, 5, 6, 7], [0, 1, 2, 3, 4, 5, 6, 7, 8]]\n"
     ]
    }
   ],
   "source": [
    "list_of_ranges = [range(10),range(11)]\n",
    "print(list_of_ranges)\n",
    "evaluated_list_of_ranges = [list(x) for x in list_of_ranges]\n",
    "print(evaluated_list_of_ranges)\n",
    "\n",
    "print([sum])\n",
    "\n",
    "def f(x):\n",
    "    return x**2\n",
    "print([f])\n",
    "\n",
    "print([[y for y in range(x)] for x in range(10)])"
   ]
  },
  {
   "cell_type": "code",
   "execution_count": 4,
   "metadata": {
    "collapsed": false
   },
   "outputs": [
    {
     "name": "stdout",
     "output_type": "stream",
     "text": [
      "[1, 2, 3, 4, 5, 6, 7, 8, 9, 10, 11, 12, 13, 14, 15, 16, 17, 18, 19, 20, 21, 22, 23, 24, 25, 26, 27, 28, 29, 30, 31, 32, 33, 34, 35, 36, 37, 38, 39, 40, 41, 42, 43, 44, 45, 46, 47, 48, 49, 50, 51, 52, 53, 54, 55, 56, 57, 58, 59, 60, 61, 62, 63, 64, 65, 66, 67, 68, 69, 70, 71, 72, 73, 74, 75, 76, 77, 78, 79, 80, 81, 82, 83, 84, 85, 86, 87, 88, 89, 90, 91, 92, 93, 94, 95, 96, 97, 98, 99, 100]\n",
      "[1, 2, 3, 4, 5, 6, 7, 8, 9, 10, 11, 12, 13, 14, 15, 16, 17, 18, 19, 20, 21, 22, 23, 24, 25, 26, 27, 28, 29, 30, 31, 32, 33, 34, 35, 36, 37, 38, 39, 40, 41, 42, 43, 44, 45, 46, 47, 48, 49, 50, 51, 52, 53, 54, 55, 56, 57, 58, 59, 60, 61, 62, 63, 64, 65, 66, 67, 68, 69, 70, 71, 72, 73, 74, 75, 76, 77, 78, 79, 80, 81, 82, 83, 84, 85, 86, 87, 88, 89, 90, 91, 92, 93, 94, 95, 96, 97, 98, 99, 100]\n"
     ]
    }
   ],
   "source": [
    "one_to_hundred = []\n",
    "for i in range(100):\n",
    "    one_to_hundred.append(i+1)\n",
    "print(one_to_hundred)\n",
    "\n",
    "print(list(range(1,101)))"
   ]
  },
  {
   "cell_type": "code",
   "execution_count": 2,
   "metadata": {
    "collapsed": false
   },
   "outputs": [
    {
     "name": "stdout",
     "output_type": "stream",
     "text": [
      "Nestle 10000000000.0\n",
      "Coca-Cola 770000000000.0\n"
     ]
    }
   ],
   "source": [
    "companies = ['Nestle','Coca-Cola']\n",
    "earnings = [1e10,7.7e11]\n",
    "for a,b in zip(companies,earnings):\n",
    "    print(a,b)"
   ]
  },
  {
   "cell_type": "code",
   "execution_count": 32,
   "metadata": {
    "collapsed": false
   },
   "outputs": [
    {
     "name": "stdout",
     "output_type": "stream",
     "text": [
      "I recommend buying from Syldavia. Profit: 64.16831586464748\n"
     ]
    }
   ],
   "source": [
    "### Arbitrage\n",
    "import random\n",
    "quote_1 = 'The buy price for 10kg salmon in Syldavia is $' + str(random.random()*100) + '.'\n",
    "quote_2 = 'The buy price for 10kg salmon in Sovokia is $' + str(random.random()*50+50) + '.'\n",
    "price1 = float(quote_1[quote_1.index('$')+1:-1])\n",
    "price2 = float(quote_2[quote_2.index('$')+1:-1])\n",
    "if price1 < price2:\n",
    "    print('I recommend buying from Syldavia. Profit:', price2-price1)\n",
    "else:\n",
    "    print('I DO NOT recommend buying from Syldavia')"
   ]
  },
  {
   "cell_type": "code",
   "execution_count": null,
   "metadata": {
    "collapsed": true
   },
   "outputs": [],
   "source": []
  }
 ],
 "metadata": {
  "anaconda-cloud": {},
  "kernelspec": {
   "display_name": "Python [conda root]",
   "language": "python",
   "name": "conda-root-py"
  },
  "language_info": {
   "codemirror_mode": {
    "name": "ipython",
    "version": 3
   },
   "file_extension": ".py",
   "mimetype": "text/x-python",
   "name": "python",
   "nbconvert_exporter": "python",
   "pygments_lexer": "ipython3",
   "version": "3.5.2"
  }
 },
 "nbformat": 4,
 "nbformat_minor": 1
}
