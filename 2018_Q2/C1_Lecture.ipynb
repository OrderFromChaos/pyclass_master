{
 "cells": [
  {
   "cell_type": "code",
   "execution_count": 1,
   "metadata": {
    "collapsed": false
   },
   "outputs": [
    {
     "name": "stdout",
     "output_type": "stream",
     "text": [
      "Hello world!\n"
     ]
    }
   ],
   "source": [
    "# Print function: takes in a string, outputs something to the print area (stdout)\n",
    "print(\"Hello world!\")"
   ]
  },
  {
   "cell_type": "code",
   "execution_count": 3,
   "metadata": {
    "collapsed": false
   },
   "outputs": [
    {
     "name": "stdout",
     "output_type": "stream",
     "text": [
      "0.0007753646752961178\n"
     ]
    }
   ],
   "source": [
    "# Why computer science?\n",
    "# One answer: solve complex equations without having to type them in every time\n",
    "print('Source: https://en.wikipedia.org/wiki/Himmelblau%27s_function')\n",
    "\n",
    "x = -2.81\n",
    "y = 3.1313\n",
    "answer = (x**2+y-11)**2 + (x+y**2-7)**2 # Note that ** is the exponent syntax in Python\n",
    "print(answer)"
   ]
  },
  {
   "cell_type": "code",
   "execution_count": 4,
   "metadata": {
    "collapsed": false
   },
   "outputs": [
    {
     "name": "stdout",
     "output_type": "stream",
     "text": [
      "0\n"
     ]
    }
   ],
   "source": [
    "# Here's a more general, clean-looking format (a \"function\"!). You'll see lots of these when programming.\n",
    "def himmelblau(x,y):\n",
    "    answer = (x**2+y-11)**2 + (x+y**2-7)**2\n",
    "    return answer\n",
    "\n",
    "print(himmelblau(3,2))"
   ]
  },
  {
   "cell_type": "code",
   "execution_count": 7,
   "metadata": {
    "collapsed": false
   },
   "outputs": [
    {
     "name": "stdout",
     "output_type": "stream",
     "text": [
      "(-2.0, -3.0)\n"
     ]
    }
   ],
   "source": [
    "# Functions can return multiple values instead of just one\n",
    "def quadratic_formula(a,b,c):\n",
    "    plus_val = (-b+(b**2 - 4*a*c)**0.5)/(2*a)\n",
    "    minus_val = (-b-(b**2 - 4*a*c)**0.5)/(2*a)\n",
    "    return plus_val, minus_val\n",
    "\n",
    "print(quadratic_formula(1,5,6))"
   ]
  },
  {
   "cell_type": "code",
   "execution_count": 9,
   "metadata": {
    "collapsed": false
   },
   "outputs": [
    {
     "name": "stdout",
     "output_type": "stream",
     "text": [
      "2.718281828459045\n",
      "120\n"
     ]
    }
   ],
   "source": [
    "# For functions that would be particularly complex to implement,\n",
    "# or just for nice readability, import external libraries by invoking their name.\n",
    "import math\n",
    "print(math.e) # EG The constant e seems like it would be very difficult to mathematically define from scratch\n",
    "print(math.factorial(5))\n",
    "# The dot . just means a subset of the other thing. In this case, the function factorial\n",
    "# and the constant e are subsets of the math library"
   ]
  },
  {
   "cell_type": "code",
   "execution_count": 16,
   "metadata": {
    "collapsed": false
   },
   "outputs": [
    {
     "name": "stdout",
     "output_type": "stream",
     "text": [
      "91\n",
      "98.60218358892708\n",
      "red\n"
     ]
    }
   ],
   "source": [
    "# Another external library sample: random numbers\n",
    "import random\n",
    "print(random.randint(1,100))\n",
    "print(random.random()*100)\n",
    "print(random.choice(['red','white','green','black']))"
   ]
  },
  {
   "cell_type": "code",
   "execution_count": 3,
   "metadata": {
    "collapsed": false
   },
   "outputs": [
    {
     "name": "stdout",
     "output_type": "stream",
     "text": [
      " \n",
      "black\n"
     ]
    }
   ],
   "source": [
    "# Simple indexing - get the nth term of a sequential thing.\n",
    "# Note that sequential things start at 0 instead of 1 in ((essentially)) every programming language.\n",
    "test = 'this is a string'\n",
    "test2 = ['red','white','green','black']\n",
    "print(test[4])\n",
    "print(test2[3])"
   ]
  },
  {
   "cell_type": "code",
   "execution_count": 2,
   "metadata": {
    "collapsed": false
   },
   "outputs": [
    {
     "name": "stdout",
     "output_type": "stream",
     "text": [
      "['this', 'is', 'a', 'string']\n",
      "redbanana|whitebanana|greenbanana|black\n"
     ]
    }
   ],
   "source": [
    "# Sometimes functions can be subsets of stuff like strings.\n",
    "# Two of them are \"split\" and \"join\", which allow for strings to be turned into lists and vice versa\n",
    "print(test.split(' '))\n",
    "print('banana|'.join(test2))"
   ]
  },
  {
   "cell_type": "code",
   "execution_count": 9,
   "metadata": {
    "collapsed": false
   },
   "outputs": [],
   "source": [
    "# Here's the spirograph/hypotrochoid drawing program from earlier.\n",
    "# COMPLETE THESE STEPS BEFORE RUNNING IT:\n",
    "# 1. Open up Powershell. Type in \"pip install pyautogui\" and press Enter. Close Powershell.\n",
    "# 2. Open up Paint. Select the pencil tool if you want to replicate the results shown in class.\n",
    "# 3. Make sure that you can alt-tab between Paint and this code. Press shift+enter to run this code,\n",
    "#    then quickly alt-tab!\n",
    "\n",
    "import pyautogui as pa\n",
    "import math\n",
    "import numpy as np\n",
    "\n",
    "CENTER = [800,520]\n",
    "### Hyperparameters\n",
    "A = 10\n",
    "B = 593/173\n",
    "H = 189/45\n",
    "T_QUALITY = 0.1\n",
    "SCALING = 22\n",
    "\n",
    "pa.moveTo(CENTER[0] + SCALING*((A-B)*math.cos(0) + H*math.cos((A-B)/B*0)),\n",
    "            CENTER[1] + SCALING*((A-B)*math.sin(0) - H*math.sin((A-B)/B*0)),\n",
    "         duration=1)\n",
    "\n",
    "for t in np.arange(0.0,45.0,T_QUALITY):\n",
    "    pa.dragTo(CENTER[0] + SCALING*((A-B)*math.cos(t) + H*math.cos((A-B)/B*t)),\n",
    "            CENTER[1] + SCALING*((A-B)*math.sin(t) - H*math.sin((A-B)/B*t)))"
   ]
  },
  {
   "cell_type": "code",
   "execution_count": null,
   "metadata": {
    "collapsed": true
   },
   "outputs": [],
   "source": []
  }
 ],
 "metadata": {
  "anaconda-cloud": {},
  "kernelspec": {
   "display_name": "Python 3",
   "language": "python",
   "name": "python3"
  },
  "language_info": {
   "codemirror_mode": {
    "name": "ipython",
    "version": 3
   },
   "file_extension": ".py",
   "mimetype": "text/x-python",
   "name": "python",
   "nbconvert_exporter": "python",
   "pygments_lexer": "ipython3",
   "version": "3.6.0"
  }
 },
 "nbformat": 4,
 "nbformat_minor": 1
}
