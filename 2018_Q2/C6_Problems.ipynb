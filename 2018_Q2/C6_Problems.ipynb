{
 "cells": [
  {
   "cell_type": "code",
   "execution_count": 6,
   "metadata": {
    "collapsed": false
   },
   "outputs": [
    {
     "name": "stdout",
     "output_type": "stream",
     "text": [
      "Hello\n",
      " Hello\n",
      "  Hello\n",
      "   Hello\n",
      "    Hello\n",
      "     Hello\n",
      "      Hello\n",
      "       Hello\n",
      "        Hello\n",
      "         Hello\n",
      "          Hello\n",
      "           Hello\n",
      "            Hello\n",
      "             Hello\n",
      "              Hello\n",
      "               Hello\n",
      "                Hello\n",
      "                 Hello\n",
      "                  Hello\n",
      "                   Hello\n",
      "Hello\n",
      " Hello\n",
      "  Hello\n",
      "   Hello\n",
      "    Hello\n",
      "     Hello\n",
      "      Hello\n",
      "       Hello\n",
      "        Hello\n",
      "         Hello\n",
      "          Hello\n",
      "           Hello\n",
      "            Hello\n",
      "             Hello\n",
      "              Hello\n",
      "               Hello\n",
      "                Hello\n",
      "                 Hello\n",
      "                  Hello\n",
      "                   Hello\n",
      "Hello\n",
      " Hello\n",
      "  Hello\n",
      "   Hello\n",
      "    Hello\n",
      "     Hello\n",
      "      Hello\n",
      "       Hello\n",
      "        Hello\n",
      "         Hello\n",
      "          Hello\n",
      "           Hello\n",
      "            Hello\n",
      "             Hello\n",
      "              Hello\n",
      "               Hello\n",
      "                Hello\n",
      "                 Hello\n",
      "                  Hello\n",
      "                   Hello\n"
     ]
    }
   ],
   "source": [
    "# My code used to import the magic\n",
    "# import pickle\n",
    "# with open('magic_code.txt','rb') as f:\n",
    "#     magic = pickle.load(f)\n",
    "# exec(magic)\n",
    "\n",
    "# Method 1 (Keeping a separate space string and adding it to print each time)\n",
    "# Fastest (doesn't need to create new space string each time, just add a space to the end)\n",
    "space_string = ''\n",
    "for i in range(20):\n",
    "    print(space_string + 'Hello')\n",
    "    space_string = space_string + ' '\n",
    "    # Same as space += ' '\n",
    "\n",
    "# Method 2 (List comprehensions and ''.join() - making our space string from complete scratch)\n",
    "# Probably the slowest of the methods (needs to create list each time AND join it)\n",
    "for i in range(20):\n",
    "    print(''.join([' ' for space in range(i)]) + 'Hello')\n",
    "\n",
    "# Method 3 (String multiples - syntax that you didn't know ahead of time)\n",
    "# Second slowest (needs to create new space string each time, but requires no lists)\n",
    "for i in range(20):\n",
    "    print(' '*i + 'Hello')"
   ]
  },
  {
   "cell_type": "markdown",
   "metadata": {},
   "source": [
    "![Bukin Function](https://upload.wikimedia.org/wikipedia/commons/thumb/a/a0/Bukin_function_6.pdf/page1-800px-Bukin_function_6.pdf.jpg)\n",
    "$$\\text{Bukin Function}$$\n",
    "$$f(x,y) = 100\\sqrt{{\\rvert}y-0.01x^2{\\rvert}}+0.01{\\lvert}x+10{\\rvert}$$"
   ]
  },
  {
   "cell_type": "code",
   "execution_count": 11,
   "metadata": {
    "collapsed": false
   },
   "outputs": [
    {
     "name": "stdout",
     "output_type": "stream",
     "text": [
      "-30 283.042712474619\n",
      "-26 240.16\n",
      "-22 196.07917942265425\n",
      "-18 149.74629547095768\n",
      "-14 98.01958971132713\n",
      "-10 0.0\n",
      "-6 80.04\n",
      "-2 98.05958971132712\n",
      "2 98.09958971132713\n",
      "6 80.16\n",
      "10 0.2\n"
     ]
    }
   ],
   "source": [
    "import math\n",
    "# Here I used math.fabs. Note that abs() (the standard Python version) is essentially equivalent.\n",
    "def bukin_function(x,y):\n",
    "    return 100*math.sqrt(math.fabs(y-0.01*x**2))+0.01*math.fabs(x+10)\n",
    "    # return 100*math.sqrt(abs(y-0.01*x**2))+0.01*abs(x+10)\n",
    "\n",
    "# Used as a check for the bukin function - if -10 is 0.0 and minimum, you're doing well\n",
    "y = 1\n",
    "for x in range(-30,11,4):\n",
    "    print(x,bukin_function(x,y))"
   ]
  },
  {
   "cell_type": "code",
   "execution_count": null,
   "metadata": {
    "collapsed": true
   },
   "outputs": [],
   "source": []
  }
 ],
 "metadata": {
  "anaconda-cloud": {},
  "kernelspec": {
   "display_name": "Python [conda root]",
   "language": "python",
   "name": "conda-root-py"
  },
  "language_info": {
   "codemirror_mode": {
    "name": "ipython",
    "version": 3
   },
   "file_extension": ".py",
   "mimetype": "text/x-python",
   "name": "python",
   "nbconvert_exporter": "python",
   "pygments_lexer": "ipython3",
   "version": "3.5.2"
  }
 },
 "nbformat": 4,
 "nbformat_minor": 1
}
