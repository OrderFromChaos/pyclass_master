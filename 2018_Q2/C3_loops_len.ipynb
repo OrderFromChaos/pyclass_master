{
 "cells": [
  {
   "cell_type": "code",
   "execution_count": null,
   "metadata": {
    "collapsed": false
   },
   "outputs": [],
   "source": [
    "# Homework solution\n",
    "# import what_I_wrote_in_the_email\n",
    "lower = ['a','b','c','d','e','f','g','h','i','j','k','l','m','n','o','p','q','r','s','t','u','v','w','x','y','z']\n",
    "upper = ['A','B','C','D','E','F','G','H','I','J','K','L','M','N','O','P','Q','R','S','T','U','V','W','X','Y','Z']\n",
    "\n",
    "sentences = [\n",
    "    'have you read the highlander recently?',\n",
    "    'i\\'m not sure when the funding from asucr will come in.',\n",
    "    'i need 15 units to be full time.',\n",
    "    'meet me at the bell tower.'\n",
    "]\n",
    "# Take note of the \\ character\n",
    "\n",
    "for i,x in enumerate(sentences):\n",
    "    sentences[i] = upper[lower.index(sentences[i][0])] + sentences[i]\n",
    "print(sentences)"
   ]
  },
  {
   "cell_type": "code",
   "execution_count": null,
   "metadata": {
    "collapsed": true
   },
   "outputs": [],
   "source": [
    "# Talk about homework and general strategies\n",
    "# Not doing the homework is like expected to understand \n",
    "#    painting from someone describing brushes. It can work, \n",
    "#    it's just not the most effective strategy.\n",
    "# The hard parts of coding are tying everything together\n",
    "#    and trying to create new and novel tools."
   ]
  },
  {
   "cell_type": "code",
   "execution_count": null,
   "metadata": {
    "collapsed": true
   },
   "outputs": [],
   "source": [
    "# Going over some file management stuff since people seemed to be confused about it\n",
    "# Best practice in terms of Jupyter starting location\n",
    "# Where to change the code so it'll start in the proper location\n",
    "\n",
    "# A> Anaconda Navigator\n",
    "# B> Powershell: jupyter notebook (on Mac this is terminal)\n",
    "\n",
    "# 1. powershell -> jupyter notebook --generate-config\n",
    "# 2. Go to file location\n",
    "# 3. CTRL+F \"notebook_dir\"\n",
    "# 4. Uncomment, change to r'C:/Users/Syris Norelli/Dropbox/Python_Code'"
   ]
  },
  {
   "cell_type": "code",
   "execution_count": null,
   "metadata": {
    "collapsed": true
   },
   "outputs": [],
   "source": [
    "# So far, I've covered two types of loops:\n",
    "# (write on board)\n",
    "# 1. Loop over values\n",
    "# 2. Loop over indices and values (enumerate)\n",
    "# Today we'll go over two more:\n",
    "# 3. Loop n times\n",
    "# 4. Loop over zip"
   ]
  },
  {
   "cell_type": "code",
   "execution_count": null,
   "metadata": {
    "collapsed": true
   },
   "outputs": [],
   "source": [
    "# 3. Loop over n times\n",
    "# Sometimes you'll want to do something a hardcoded\n",
    "#    number of times.\n",
    "# For example, you want 10 random numbers\n",
    "# Then how do you say this?\n",
    "import random\n",
    "try:\n",
    "    for i in 10: # Nope\n",
    "        print(random.randint(1,100))\n",
    "except TypeError: # TypeError from 10 not being \"iterable\"\n",
    "    for i in range(10): # Yup\n",
    "        print(random.randint(1,100))\n",
    "\n",
    "# What is range producing? Just ten things - 0 to 9\n",
    "print(list(range(10)))\n",
    "# Short side note about list(), int(), float(), etc.\n",
    "# The way these work (intuitively):\n",
    "# list() works on sequential things (like strings)\n",
    "# int makes a string into an int\n",
    "# float makes a decimal into a float\n",
    "\n",
    "# Here, range is a sequential thing that returns an i\n",
    "# which goes to the for loop. So we use list to look at it."
   ]
  },
  {
   "cell_type": "code",
   "execution_count": null,
   "metadata": {
    "collapsed": false
   },
   "outputs": [],
   "source": [
    "# One extension of this is to just get the indices of a list:\n",
    "print()\n",
    "dataset = [1,0,3,56,6,6,4,1,6,3,-1]\n",
    "print(len(dataset))\n",
    "# Then you can throw that into a for loop to loop over the indices\n",
    "for i in range(len(dataset)):\n",
    "    print(dataset[i],end=' ')\n",
    "# This is basically a worse form of enumerate"
   ]
  },
  {
   "cell_type": "code",
   "execution_count": null,
   "metadata": {
    "collapsed": false
   },
   "outputs": [],
   "source": [
    "# 4. Loop over zip\n",
    "for a,b in zip([1,2,3],[3,2,1]):\n",
    "    print(a,b)\n",
    "\n",
    "# Zip is a VERY general method. For example, you can\n",
    "# reproduce enumerate from the stuff we've already mentioned:\n",
    "print()\n",
    "for i,x in zip(range(len(dataset)),dataset):\n",
    "    print(i,x)"
   ]
  },
  {
   "cell_type": "code",
   "execution_count": null,
   "metadata": {
    "collapsed": false
   },
   "outputs": [],
   "source": [
    "# Now let's talk about libraries\n",
    "# Code takes time to write, in realistic scenarios you'll\n",
    "#    want to take advantage of libraries for complex stuff\n",
    "#    anytime you can.\n",
    "# You might remember from earlier:\n",
    "import random\n",
    "print(random.random())"
   ]
  },
  {
   "cell_type": "code",
   "execution_count": null,
   "metadata": {
    "collapsed": false
   },
   "outputs": [],
   "source": [
    "# First question: where is this code stored?\n",
    "import sys\n",
    "print(sys.path)"
   ]
  },
  {
   "cell_type": "code",
   "execution_count": null,
   "metadata": {
    "collapsed": false
   },
   "outputs": [],
   "source": [
    "# How do I get new packages?\n",
    "# pip - the package manager!\n",
    "# Many \"modern\" languages have this, like js and npm\n",
    "# pip install Pillow (should already have)\n",
    "# pip install xkcd\n",
    "from PIL import Image\n",
    "import xkcd\n",
    "\n",
    "# For this part of the syntax https://pythonhosted.org/xkcd/\n",
    "comic = xkcd.getComic(353)\n",
    "comic.download('.','xkcd.png')\n",
    "img = Image.open('xkcd.png')\n",
    "img.show()\n",
    "\n",
    "# Examples of libraries:\n",
    "# Cryptography (encryption)\n",
    "# Counting how many times a thing shows up\n",
    "# Beautiful graphing\n",
    "# Connecting to computers remotely\n",
    "# Automating webbrowsers (people who came early to last class saw this)\n",
    "# And of course, automating mouse and keyboard input (first class)\n",
    "#    All this stuff is available in libraries"
   ]
  },
  {
   "cell_type": "code",
   "execution_count": null,
   "metadata": {
    "collapsed": false
   },
   "outputs": [],
   "source": [
    "# Let's talk about indexing\n",
    "sentences = [\n",
    "    'have you read the highlander recently?',\n",
    "    'i\\'m not sure when the funding from asucr will come in.',\n",
    "    'i need 15 units to be full time.',\n",
    "    'meet me at the bell tower.'\n",
    "]\n",
    "\n",
    "for i,x in enumerate(sentences):\n",
    "    sentences[i] = upper[lower.index(sentences[i][0])] + sentences[i][1:]\n",
    "print(sentences)"
   ]
  },
  {
   "cell_type": "code",
   "execution_count": 9,
   "metadata": {
    "collapsed": false
   },
   "outputs": [
    {
     "name": "stdout",
     "output_type": "stream",
     "text": [
      "Three o'clock\n",
      "['oranges', 'peaches', 'pomegranate']\n"
     ]
    }
   ],
   "source": [
    "# Indexing allows for sections of sequential things to be selected. For example:\n",
    "# This is a good thing to draw on board with a line showing where the slot is going.\n",
    "test = 'Three o\\'clock is always too late or too early for anything you want to do.'\n",
    "print(test[:13])\n",
    "test2 = ['apples','bananas','oranges','peaches','pomegranate']\n",
    "print(test2[2:5])\n",
    "# This is a ridiculous amount better than C++ and other languages in\n",
    "# this regard - selecting portions is used all the time in data analysis"
   ]
  },
  {
   "cell_type": "code",
   "execution_count": 15,
   "metadata": {
    "collapsed": false
   },
   "outputs": [
    {
     "name": "stdout",
     "output_type": "stream",
     "text": [
      "acegikmoqsuwy\n"
     ]
    }
   ],
   "source": [
    "# In addition, you can do some fancy stuff with a \"step\"\n",
    "# This isn't used that often, but is concise way to do reverse\n",
    "alphabet = 'abcdefghijklmnopqrstuvwxyz'\n",
    "print(alphabet[::2])"
   ]
  },
  {
   "cell_type": "code",
   "execution_count": 20,
   "metadata": {
    "collapsed": false
   },
   "outputs": [
    {
     "name": "stdout",
     "output_type": "stream",
     "text": [
      "ghijklmnopqrstuvwxyz\n",
      "abcdefghijklmnopqrstuvwx\n",
      "zyxwvutsrqponmlkjihgfedcba\n"
     ]
    }
   ],
   "source": [
    "# Everything in indexing can take negative terms\n",
    "print(alphabet[-20:]) # Not very useful\n",
    "print(alphabet[:-2]) # VERY useful (remove trailing characters)\n",
    "print(alphabet[::-1]) # Super concise reversal"
   ]
  },
  {
   "cell_type": "code",
   "execution_count": 25,
   "metadata": {
    "collapsed": false
   },
   "outputs": [
    {
     "name": "stdout",
     "output_type": "stream",
     "text": [
      "7316717653133062491922511967442657474235534919493496983520312774506326239578318016984801869478851843858615607891129494954595017379583319528532088055111254069874715852386305071569329096329522744304355766896648950445244523161731856403098711121722383113622298934233803081353362766142828064444866452387493035890729629049156044077239071381051585930796086670172427121883998797908792274921901699720888093776657273330010533678812202354218097512545405947522435258490771167055601360483958644670632441572215539753697817977846174064955149290862569321978468622482839722413756570560574902614079729686524145351004748216637048440319989000889524345065854122758866688116427171479924442928230863465674813919123162824586178664583591245665294765456828489128831426076900422421902267105562632111110937054421750694165896040807198403850962455444362981230987879927244284909188845801561660979191338754992005240636899125607176060588611646710940507754100225698315520005593572972571636269561882670428252483600823257530420752963450\n"
     ]
    }
   ],
   "source": [
    "# A last bit of additional magic, mostly using indexing\n",
    "# https://projecteuler.net/problem=8\n",
    "# First, string splitting (ALREADY COVERED)\n",
    "# Sometimes when you import a dataset, you'll have stuff\n",
    "# on a bunch of different lines. String splitting lets you\n",
    "# fix that. The newline character is '\\n'\n",
    "number = '''73167176531330624919225119674426574742355349194934\n",
    "96983520312774506326239578318016984801869478851843\n",
    "85861560789112949495459501737958331952853208805511\n",
    "12540698747158523863050715693290963295227443043557\n",
    "66896648950445244523161731856403098711121722383113\n",
    "62229893423380308135336276614282806444486645238749\n",
    "30358907296290491560440772390713810515859307960866\n",
    "70172427121883998797908792274921901699720888093776\n",
    "65727333001053367881220235421809751254540594752243\n",
    "52584907711670556013604839586446706324415722155397\n",
    "53697817977846174064955149290862569321978468622482\n",
    "83972241375657056057490261407972968652414535100474\n",
    "82166370484403199890008895243450658541227588666881\n",
    "16427171479924442928230863465674813919123162824586\n",
    "17866458359124566529476545682848912883142607690042\n",
    "24219022671055626321111109370544217506941658960408\n",
    "07198403850962455444362981230987879927244284909188\n",
    "84580156166097919133875499200524063689912560717606\n",
    "05886116467109405077541002256983155200055935729725\n",
    "71636269561882670428252483600823257530420752963450'''\n",
    "number = int(''.join(number.split('\\n')))\n",
    "\n",
    "# Now we have to compute this problem\n"
   ]
  },
  {
   "cell_type": "code",
   "execution_count": null,
   "metadata": {
    "collapsed": true
   },
   "outputs": [],
   "source": []
  }
 ],
 "metadata": {
  "anaconda-cloud": {},
  "kernelspec": {
   "display_name": "Python 3",
   "language": "python",
   "name": "python3"
  },
  "language_info": {
   "codemirror_mode": {
    "name": "ipython",
    "version": 3
   },
   "file_extension": ".py",
   "mimetype": "text/x-python",
   "name": "python",
   "nbconvert_exporter": "python",
   "pygments_lexer": "ipython3",
   "version": "3.6.0"
  }
 },
 "nbformat": 4,
 "nbformat_minor": 2
}
