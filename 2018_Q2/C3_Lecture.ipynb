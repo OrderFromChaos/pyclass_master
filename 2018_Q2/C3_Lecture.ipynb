{
 "cells": [
  {
   "cell_type": "code",
   "execution_count": 6,
   "metadata": {
    "collapsed": false
   },
   "outputs": [
    {
     "name": "stdout",
     "output_type": "stream",
     "text": [
      "['Have you read the highlander recently?', \"I'm not sure when the funding from asucr will come in.\", 'I need 15 units to be full time.', 'Meet me at the bell tower.']\n"
     ]
    }
   ],
   "source": [
    "### Homework solution\n",
    "# First create two alphabet arrays. This will allow you a place to look up the uppercase version of the lowercase letter.\n",
    "lower = ['a','b','c','d','e','f','g','h','i','j','k','l','m','n','o','p','q','r','s','t','u','v','w','x','y','z']\n",
    "upper = ['A','B','C','D','E','F','G','H','I','J','K','L','M','N','O','P','Q','R','S','T','U','V','W','X','Y','Z']\n",
    "\n",
    "# Now paste in the sentences from the problem description...\n",
    "sentences = [\n",
    "    'have you read the highlander recently?',\n",
    "    'i\\'m not sure when the funding from asucr will come in.',\n",
    "    'i need 15 units to be full time.',\n",
    "    'meet me at the bell tower.'\n",
    "]\n",
    "\n",
    "# Here's a general sketch of the route:\n",
    "# 1. For each sentence\n",
    "# 2. Look up uppercase version of first letter\n",
    "# 3. Replace lowercase letter with uppercase letter\n",
    "\n",
    "# Here's the implementation!\n",
    "for i,x in enumerate(sentences):\n",
    "    # I choose enumerate because I want to change elements in my array to the capitalized version (which requires an index)\n",
    "    # I don't actually need x (the values), but this is cleaner looking than range(len(sentences))\n",
    "    sentences[i] = upper[lower.index(sentences[i][0])] + sentences[i][1:]\n",
    "    # I use .index() to get the position of the lowercase letter, then look up the uppercase letter.\n",
    "    # sentences[i][1:] uses a structure I haven't covered yet (will cover in C4)\n",
    "    # However, you can get _close_ to the right answer by just using ... + sentences[i]\n",
    "    # This will add the correct, capitalized letter to the front.\n",
    "print(sentences)"
   ]
  },
  {
   "cell_type": "code",
   "execution_count": 1,
   "metadata": {
    "collapsed": false
   },
   "outputs": [
    {
     "name": "stdout",
     "output_type": "stream",
     "text": [
      "84\n",
      "72\n",
      "31\n",
      "5\n",
      "77\n",
      "5\n",
      "34\n",
      "23\n",
      "53\n",
      "1\n"
     ]
    }
   ],
   "source": [
    "import random\n",
    "# for i in 10: # This may seem intuitively like it would work (to do something 10 times)\n",
    "              # But it doesn't. You have to use the range() function.\n",
    "\n",
    "# The right way of doing something N times is use range().\n",
    "# Here, I do something 10 times.\n",
    "for i in range(10):\n",
    "    print(random.randint(1,100))"
   ]
  },
  {
   "cell_type": "code",
   "execution_count": 2,
   "metadata": {
    "collapsed": false
   },
   "outputs": [
    {
     "name": "stdout",
     "output_type": "stream",
     "text": [
      "[0, 1, 2, 3, 4, 5, 6, 7, 8, 9]\n",
      "['h', 'e', 'l', 'l', 'o', ' ', 'w', 'o', 'r', 'l', 'd']\n",
      "583\n",
      "51364.539158\n"
     ]
    }
   ],
   "source": [
    "### Side note: Casting data types\n",
    "# Some things can be naturally cast into each other.\n",
    "# For example, listing out a range gives us the order I showed in class.\n",
    "print(list(range(10)))\n",
    "# Listing out a string gives us each of its characters.\n",
    "print(list('hello world'))\n",
    "# Things that look like integers (no decimals) can be turned into numbers with int()\n",
    "print(int('576') + 7)\n",
    "# Things that have decimals can be turned into numbers with float()\n",
    "print(float('51359.539158') + 5)"
   ]
  },
  {
   "cell_type": "code",
   "execution_count": 28,
   "metadata": {
    "collapsed": false
   },
   "outputs": [
    {
     "name": "stdout",
     "output_type": "stream",
     "text": [
      "10\n",
      "1 5 6 8 2 9 1 9 3 9 "
     ]
    }
   ],
   "source": [
    "# To loop over the indices of a list, you can use range(len(dataset))\n",
    "# len finds the length of the dataset, which is then fed to range()\n",
    "data = [1,5,6,8,2,9,1,9,3,9]\n",
    "print(len(data))\n",
    "for i in range(len(data)):\n",
    "    print(data[i],end=' ')\n",
    "# \"end\" is an optional argument for print that says what to put at the end\n",
    "# By default this is \\n (the newline character)"
   ]
  },
  {
   "cell_type": "code",
   "execution_count": 32,
   "metadata": {
    "collapsed": false
   },
   "outputs": [
    {
     "name": "stdout",
     "output_type": "stream",
     "text": [
      "1 3\n",
      "2 2\n",
      "3 1\n",
      "\n",
      "0 1\n",
      "1 5\n",
      "2 6\n",
      "3 8\n",
      "4 2\n",
      "5 9\n",
      "6 1\n",
      "7 9\n",
      "8 3\n",
      "9 9\n"
     ]
    }
   ],
   "source": [
    "### 4. Loop over zip\n",
    "# zip() allows you to put two lists together. For example:\n",
    "for a,b in zip([1,2,3],[3,2,1]):\n",
    "    print(a,b)\n",
    "print() # This automatically prints a blank line, since print puts \\n at the end of things\n",
    "# We can actually recreate enumerate() from scratch using zip!\n",
    "# There's a lot of flexibility in Python for stuff like this. It's actually possible\n",
    "# (believe it or not) to make the range() function from scratch.\n",
    "for i,x in zip(range(len(data)),data):\n",
    "    print(i,x)"
   ]
  },
  {
   "cell_type": "code",
   "execution_count": 35,
   "metadata": {
    "collapsed": false
   },
   "outputs": [
    {
     "name": "stdout",
     "output_type": "stream",
     "text": [
      "['', 'C:\\\\Users\\\\Syris Norelli\\\\Anaconda3\\\\python35.zip', 'C:\\\\Users\\\\Syris Norelli\\\\Anaconda3\\\\DLLs', 'C:\\\\Users\\\\Syris Norelli\\\\Anaconda3\\\\lib', 'C:\\\\Users\\\\Syris Norelli\\\\Anaconda3', 'C:\\\\Users\\\\Syris Norelli\\\\Anaconda3\\\\lib\\\\site-packages', 'C:\\\\Users\\\\Syris Norelli\\\\Anaconda3\\\\lib\\\\site-packages\\\\Sphinx-1.4.6-py3.5.egg', 'C:\\\\Users\\\\Syris Norelli\\\\Anaconda3\\\\lib\\\\site-packages\\\\win32', 'C:\\\\Users\\\\Syris Norelli\\\\Anaconda3\\\\lib\\\\site-packages\\\\win32\\\\lib', 'C:\\\\Users\\\\Syris Norelli\\\\Anaconda3\\\\lib\\\\site-packages\\\\Pythonwin', 'C:\\\\Users\\\\Syris Norelli\\\\Anaconda3\\\\lib\\\\site-packages\\\\setuptools-27.2.0-py3.5.egg', 'C:\\\\Users\\\\Syris Norelli\\\\Anaconda3\\\\lib\\\\site-packages\\\\IPython\\\\extensions', 'C:\\\\Users\\\\Syris Norelli\\\\.ipython']\n"
     ]
    }
   ],
   "source": [
    "# For context on where all those libraries (like math, random, etc.) are coming from, sys.path tells you exactly the file paths they're stored at.\n",
    "import sys\n",
    "print(sys.path)"
   ]
  },
  {
   "cell_type": "code",
   "execution_count": 38,
   "metadata": {
    "collapsed": true
   },
   "outputs": [],
   "source": [
    "# Here's an example from a library I got from pip. Since there were issues with getting pip working in class, I'll cover this in C5.\n",
    "# However, if you happen to have the xkcd library already, this will display a Python-relevant xkcd.\n",
    "from PIL import Image\n",
    "import xkcd\n",
    "\n",
    "comic = xkcd.getComic(353)\n",
    "comic.download('.','xkcd.png')\n",
    "img = Image.open('xkcd.png')\n",
    "img.show()"
   ]
  },
  {
   "cell_type": "code",
   "execution_count": null,
   "metadata": {
    "collapsed": true
   },
   "outputs": [],
   "source": []
  }
 ],
 "metadata": {
  "anaconda-cloud": {},
  "kernelspec": {
   "display_name": "Python 3",
   "language": "python",
   "name": "python3"
  },
  "language_info": {
   "codemirror_mode": {
    "name": "ipython",
    "version": 3
   },
   "file_extension": ".py",
   "mimetype": "text/x-python",
   "name": "python",
   "nbconvert_exporter": "python",
   "pygments_lexer": "ipython3",
   "version": "3.6.0"
  }
 },
 "nbformat": 4,
 "nbformat_minor": 1
}
