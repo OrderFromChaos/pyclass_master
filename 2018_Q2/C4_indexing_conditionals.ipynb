{
 "cells": [
  {
   "cell_type": "code",
   "execution_count": null,
   "metadata": {
    "collapsed": true
   },
   "outputs": [],
   "source": [
    "objectives = ['conditional statements',\n",
    "             'indexing',\n",
    "             'problems using currently learned material']"
   ]
  },
  {
   "cell_type": "code",
   "execution_count": 3,
   "metadata": {
    "collapsed": true
   },
   "outputs": [],
   "source": [
    "# General course layout for the rest of the quarter:\n",
    "# Week 7 (now): General indexing, conditional statements, \n",
    "#       list comprehensions, basic cmd line file management stuff\n",
    "# Week 8: Hardcore problem solving\n",
    "# Week 9: Some library stuff, probably more problem solving\n",
    "\n",
    "# As a general rule, how much you have to study later depends on how much\n",
    "# the professor is willing to repeat. I haven't repeated much.\n",
    "# The goal is to provide at least passing familiarity with\n",
    "# most of the basic concepts you'll run into in research.\n",
    "# To understand these concepts well, you will have to practice them\n",
    "# on your own and use the reference material I've provided (the guidesheet)\n",
    "# and the Python.org tutorial.\n",
    "\n",
    "# You will find next week that you WILL struggle with the problems\n",
    "# I give you. This is a good thing - instead of passively listening,\n",
    "# you'll be trying hard to do the creative part of programming. This is\n",
    "# the real work part of it. Once you get very good at it, it's like\n",
    "# using an arm - feels pretty normal and nice to move around every once\n",
    "# in a while. (This might just be me, though.)\n",
    "\n",
    "# Read through the guidesheet over the next week. That will be your\n",
    "# homework. Learn the examples well, try messing with them yourself,\n",
    "# and be familiar with each of the concepts. If you're confused about\n",
    "# any additional concepts, I will be holding office hours next week \n",
    "# noon to 1 (the hour before the class) - location TBA.\n",
    "\n",
    "# After this class is done, if you run into any tricky computational \n",
    "# research problems you can't seem to crack, feel free to approach \n",
    "# me and I can guide you in the right direction. In addition, I will\n",
    "# be offering an advanced level course in fall with this class as\n",
    "# a prerequisite. We'll cover data visualization, n-D arrays \n",
    "# like numpy and pandas, web data scraping using Selenium, \n",
    "# generators, class structures, and graphics (hopefully, anyway).\n",
    "\n",
    "# I'm probably actually down to teach it this summer, at least in a\n",
    "# experimental sense. I'll be here during that time. Just depends how\n",
    "# many of you are here.\n",
    "\n",
    "# We moved at a brisk pace this quarter. This is much faster than the\n",
    "# rate that CS courses are usually taught here. It's an achievement if\n",
    "# you stuck around and generally understood most of the material."
   ]
  },
  {
   "cell_type": "code",
   "execution_count": null,
   "metadata": {
    "collapsed": false
   },
   "outputs": [],
   "source": [
    "# HW Solution\n",
    "# Remember range(len(dataset))\n",
    "dataset = [1,3,5,7,9,0,8,6,4,2] # It's 10 long\n",
    "print(range(len(dataset)))\n",
    "print(list(range(len(dataset))))\n",
    "print(dataset)\n",
    "\n",
    "for i,x in enumerate(dataset):\n",
    "    print(i,x)\n",
    "\n",
    "print()\n",
    "for i,x in zip(range(len(dataset)),dataset):\n",
    "    print(i,x)"
   ]
  },
  {
   "cell_type": "code",
   "execution_count": null,
   "metadata": {
    "collapsed": false
   },
   "outputs": [],
   "source": [
    "# As you might remember from last time\n",
    "lower = ['a','b','c','d','e','f','g','h','i','j','k','l','m','n','o','p','q','r','s','t','u','v','w','x','y','z']\n",
    "upper = ['A','B','C','D','E','F','G','H','I','J','K','L','M','N','O','P','Q','R','S','T','U','V','W','X','Y','Z']\n",
    "\n",
    "sentences = [\n",
    "    'have you read the highlander recently?',\n",
    "    'i\\'m not sure when the funding from asucr will come in.',\n",
    "    'i need 15 units to be full time.',\n",
    "    'meet me at the bell tower.'\n",
    "]\n",
    "\n",
    "for i,x in enumerate(sentences):\n",
    "    sentences[i] = upper[lower.index(sentences[i][0])] + sentences[i][1:]\n",
    "print(sentences)\n",
    "# The last bit of sentences (sentences[i][1:]) has a fairly natural\n",
    "# interpretation: take all things past index 1"
   ]
  },
  {
   "cell_type": "code",
   "execution_count": null,
   "metadata": {
    "collapsed": false
   },
   "outputs": [],
   "source": [
    "# Indexing allows for sections of sequential things to be selected. For example:\n",
    "    # (Sequential things so far: lists, strings)\n",
    "    # 'The price of gold rose by 3.27% today.'\n",
    "    # If we want to do stuff with this statement, we need that number!\n",
    "\n",
    "# This is a good thing to draw on board with a line showing where the \n",
    "#     slot is going. (Like a word document!)\n",
    "\n",
    "# Plus, the start, stop, and step notation (and when it goes past it)\n",
    "test = '''Three o\\'clock is always too late or too early for \n",
    "            anything you want to do.'''\n",
    "print(test[:13])\n",
    "test2 = ['apples','bananas','oranges','peaches','pomegranate']\n",
    "print(test2[2:5])\n",
    "# This is a ridiculous amount better than C++ and other languages in\n",
    "# this regard - selecting portions is used all the time in data analysis"
   ]
  },
  {
   "cell_type": "code",
   "execution_count": 7,
   "metadata": {
    "collapsed": false
   },
   "outputs": [
    {
     "name": "stdout",
     "output_type": "stream",
     "text": [
      "acegikmoqsuwy\n",
      "zyxwvutsrqponmlkjihgfedcba\n"
     ]
    }
   ],
   "source": [
    "# In addition, you can do some fancy stuff with a \"step\"\n",
    "# This isn't used that often, but is concise way to do reverse\n",
    "alphabet = 'abcdefghijklmnopqrstuvwxyz'\n",
    "print(alphabet[::2])\n",
    "print(alphabet[::-1])"
   ]
  },
  {
   "cell_type": "code",
   "execution_count": 8,
   "metadata": {
    "collapsed": false
   },
   "outputs": [
    {
     "name": "stdout",
     "output_type": "stream",
     "text": [
      "ghijklmnopqrstuvwxyz\n",
      "abcdefghijklmnopqrstuvwx\n",
      "zyxwvutsrqponmlkjihgfedcba\n"
     ]
    }
   ],
   "source": [
    "# Actually, everything in indexing can take negative terms\n",
    "print(alphabet[-20:]) # Not very useful\n",
    "print(alphabet[:-2])  # VERY useful (remove trailing characters)\n",
    "print(alphabet[::-1]) # Super concise reversal"
   ]
  },
  {
   "cell_type": "code",
   "execution_count": 2,
   "metadata": {
    "collapsed": false
   },
   "outputs": [
    {
     "name": "stdout",
     "output_type": "stream",
     "text": [
      "[0, 1, 2, 3, 4, 5, 6, 7, 8, 9]\n",
      "[1, 8, 15, 22, 29, 36, 43, 50, 57, 64, 71, 78, 85, 92, 99]\n"
     ]
    }
   ],
   "source": [
    "# So to review, [start:end:step]\n",
    "# In an interesting generalization, this same thing applies to range()\n",
    "print(list(range(10)))\n",
    "print(list(range(1,100,7)))"
   ]
  },
  {
   "cell_type": "code",
   "execution_count": 9,
   "metadata": {
    "collapsed": false
   },
   "outputs": [
    {
     "name": "stdout",
     "output_type": "stream",
     "text": [
      "NOT ALLOWED\n"
     ]
    }
   ],
   "source": [
    "# Aight it's conditional statements time\n",
    "# Those of you familiar with other programming languages might wonder\n",
    "#     why I haven't taught if statements yet. (They're fundamental.)\n",
    "#     The answer is eh, haven't gotten to it yet. Haven't needed it yet.\n",
    "\n",
    "# Conditional statements are pretty simple:\n",
    "# Do this thing if this is the case. Otherwise do something else.\n",
    "# For example:\n",
    "# (This is not actually that different than how authentication\n",
    "#  works for social media websites.)\n",
    "\n",
    "def user_123456(friend_req):\n",
    "    friends = ['Syris']\n",
    "    messages = ['I had a blast at the water park yesterday!']\n",
    "    if friend_req in friends: # Someone who is allowed to view msgs\n",
    "        return messages\n",
    "    else:\n",
    "        return 'NOT ALLOWED'\n",
    "\n",
    "print(user_123456('Sydney'))"
   ]
  },
  {
   "cell_type": "code",
   "execution_count": 14,
   "metadata": {
    "collapsed": false
   },
   "outputs": [
    {
     "name": "stdout",
     "output_type": "stream",
     "text": [
      "You got into the treasure!\n",
      "You got into the treasure!\n",
      "You try the lock, but the key doesn't fit.\n",
      "It is NOT raining today.\n",
      "It is NOT raining today.\n",
      "False\n",
      "True\n"
     ]
    }
   ],
   "source": [
    "### Here's the sort of if statements you'll run into\n",
    "import random\n",
    "### 1. Simple equality check\n",
    "key = 2\n",
    "if key == 2:\n",
    "    print('You got into the treasure!')\n",
    "\n",
    "### 2. Branching if statement\n",
    "key = 2\n",
    "if key == 2:\n",
    "    print('You got into the treasure!')\n",
    "elif key == 3: # Only runs if last didn't run\n",
    "    print('''After seeing the surface level treasure, you \n",
    "            notice a secret compartment on the bottom of the \n",
    "            drawer. Detailed inside are instructions to enter \n",
    "            the nearby sealed cultist building.''')\n",
    "\n",
    "### 3. The else clause\n",
    "key = random.randint(2,10)\n",
    "if key == 2:\n",
    "    print('You got into the treasure!')\n",
    "elif key == 3: # Only runs if last didn't run\n",
    "    print('''After seeing the surface level treasure, you \n",
    "            notice a secret compartment on the bottom of the \n",
    "            drawer. Detailed inside are instructions to enter \n",
    "            the nearby sealed cultist building.''')\n",
    "elif key == 4:\n",
    "    print('''When you insert the key into the lock, you\n",
    "             realized too late that the lock is a mimic.\n",
    "             You are eaten by the treasure chest. Game over.''')\n",
    "else:\n",
    "    print('You try the lock, but the key doesn\\'t fit.')\n",
    "\n",
    "### 4. Boolean values\n",
    "raining_today = False\n",
    "if raining_today == True:\n",
    "    print('It is raining today')\n",
    "else:\n",
    "    print('It is NOT raining today.')\n",
    "# In a more fundamental sense:\n",
    "if raining_today:\n",
    "    print('It is raining today')\n",
    "else:\n",
    "    print('It is NOT raining today.')\n",
    "\n",
    "### 5. See if a thing is in your list of keys\n",
    "def am_I_allergic(things):\n",
    "    allergens = ['peanut butter','grass','the sun']\n",
    "    allergic = False\n",
    "    for thing in things:\n",
    "        if thing in allergens:\n",
    "            allergic = True\n",
    "    return allergic\n",
    "\n",
    "print(am_I_allergic(['cats','dogs','carpet']))\n",
    "print(am_I_allergic(['cats','peanut butter']))"
   ]
  },
  {
   "cell_type": "code",
   "execution_count": 32,
   "metadata": {
    "collapsed": false
   },
   "outputs": [
    {
     "name": "stdout",
     "output_type": "stream",
     "text": [
      "[1, 4, 9, 16, 25, 36, 49, 64, 81, 100]\n",
      "[1, 4, 9, 16, 25, 36, 49, 64, 81, 100]\n"
     ]
    }
   ],
   "source": [
    "# Short version of generating for stuff - list comps.\n",
    "# It's equivalent, but so much nicer looking\n",
    "# Earlier:\n",
    "squares = []\n",
    "for x in range(1,11):\n",
    "    squares.append(x**2)\n",
    "print(squares)\n",
    "# Here's the shorter, nicer looking way\n",
    "squares = [x**2 for x in range(1,11)]\n",
    "print(squares)"
   ]
  },
  {
   "cell_type": "code",
   "execution_count": 31,
   "metadata": {
    "collapsed": false
   },
   "outputs": [
    {
     "name": "stdout",
     "output_type": "stream",
     "text": [
      "<class 'int'>\n",
      "Yeah!\n",
      "[1, 4, 5, 2, 7, 5, 7, 21]\n"
     ]
    }
   ],
   "source": [
    "# List comprehensions are esp nice because of the extra\n",
    "# stuff you can do with them\n",
    "messy = [1,4,5,2,7,None,'N/A',5,7,21]\n",
    "# We only want the numbers from this data, so...\n",
    "print(type(1))\n",
    "\n",
    "if type(messy[0]) == type(10):\n",
    "    print('Yeah!')\n",
    "\n",
    "clean = [x for x in messy if type(x) == type(10)]\n",
    "print(clean)"
   ]
  },
  {
   "cell_type": "code",
   "execution_count": null,
   "metadata": {
    "collapsed": true
   },
   "outputs": [],
   "source": [
    "### Cover if extra time:\n",
    "# Some general command line stuff\n",
    "# cd, the meaning of . and ..\n",
    "# mkdir\n",
    "# This is an introduction to file management stuff\n",
    "# import os, os.listdir()\n",
    "# sorted()\n",
    "\n",
    "### OH YEAH AND GUIDESHEET STUFF"
   ]
  },
  {
   "cell_type": "code",
   "execution_count": 35,
   "metadata": {
    "collapsed": false
   },
   "outputs": [
    {
     "name": "stdout",
     "output_type": "stream",
     "text": [
      "['.ipynb_checkpoints', 'C1_Lecture.ipynb', 'C1_variables_functions.ipynb', 'C1_variables_functions.pdf', 'C2_Lecture.ipynb', 'C2_loops_lists.ipynb', 'C2_loops_lists.pdf', 'C3_Lecture.ipynb', 'C3_loops_len.ipynb', 'C3_loops_len.pdf', 'C4_Lecture.ipynb', 'xkcd.png']\n"
     ]
    }
   ],
   "source": [
    "import os\n",
    "print(sorted(os.listdir()))"
   ]
  },
  {
   "cell_type": "code",
   "execution_count": null,
   "metadata": {
    "collapsed": true
   },
   "outputs": [],
   "source": []
  },
  {
   "cell_type": "code",
   "execution_count": null,
   "metadata": {
    "collapsed": true
   },
   "outputs": [],
   "source": []
  },
  {
   "cell_type": "code",
   "execution_count": null,
   "metadata": {
    "collapsed": true
   },
   "outputs": [],
   "source": []
  },
  {
   "cell_type": "code",
   "execution_count": null,
   "metadata": {
    "collapsed": true
   },
   "outputs": [],
   "source": []
  },
  {
   "cell_type": "code",
   "execution_count": null,
   "metadata": {
    "collapsed": true
   },
   "outputs": [],
   "source": []
  },
  {
   "cell_type": "code",
   "execution_count": null,
   "metadata": {
    "collapsed": true
   },
   "outputs": [],
   "source": []
  },
  {
   "cell_type": "code",
   "execution_count": null,
   "metadata": {
    "collapsed": true
   },
   "outputs": [],
   "source": []
  },
  {
   "cell_type": "code",
   "execution_count": 33,
   "metadata": {
    "collapsed": false
   },
   "outputs": [
    {
     "ename": "NameError",
     "evalue": "name 'np' is not defined",
     "output_type": "error",
     "traceback": [
      "\u001b[0;31m---------------------------------------------------------------------------\u001b[0m",
      "\u001b[0;31mNameError\u001b[0m                                 Traceback (most recent call last)",
      "\u001b[0;32m<ipython-input-33-4d3f310f24c5>\u001b[0m in \u001b[0;36m<module>\u001b[0;34m()\u001b[0m\n\u001b[1;32m     23\u001b[0m \u001b[0;36m0\u001b[0m\u001b[0;36m5886116467109405077541002256983155200055935729725\u001b[0m\u001b[0;34m\u001b[0m\u001b[0m\n\u001b[1;32m     24\u001b[0m 71636269561882670428252483600823257530420752963450'''\n\u001b[0;32m---> 25\u001b[0;31m \u001b[0mcharform\u001b[0m \u001b[0;34m=\u001b[0m \u001b[0mnp\u001b[0m\u001b[0;34m.\u001b[0m\u001b[0masarray\u001b[0m\u001b[0;34m(\u001b[0m\u001b[0;34m[\u001b[0m\u001b[0;34m[\u001b[0m\u001b[0mint\u001b[0m\u001b[0;34m(\u001b[0m\u001b[0my\u001b[0m\u001b[0;34m)\u001b[0m \u001b[0;32mfor\u001b[0m \u001b[0my\u001b[0m \u001b[0;32min\u001b[0m \u001b[0mx\u001b[0m\u001b[0;34m]\u001b[0m \u001b[0;32mfor\u001b[0m \u001b[0mx\u001b[0m \u001b[0;32min\u001b[0m \u001b[0mseed\u001b[0m\u001b[0;34m.\u001b[0m\u001b[0msplit\u001b[0m\u001b[0;34m(\u001b[0m\u001b[0;34m'\\n'\u001b[0m\u001b[0;34m)\u001b[0m\u001b[0;34m]\u001b[0m\u001b[0;34m)\u001b[0m\u001b[0;34m\u001b[0m\u001b[0m\n\u001b[0m\u001b[1;32m     26\u001b[0m \u001b[0mprint\u001b[0m\u001b[0;34m(\u001b[0m\u001b[0mcharform\u001b[0m\u001b[0;34m.\u001b[0m\u001b[0mshape\u001b[0m\u001b[0;34m)\u001b[0m\u001b[0;34m\u001b[0m\u001b[0m\n\u001b[1;32m     27\u001b[0m \u001b[0;31m# For each entry, check margin on left, right, below, and above. Then compute\u001b[0m\u001b[0;34m\u001b[0m\u001b[0;34m\u001b[0m\u001b[0m\n",
      "\u001b[0;31mNameError\u001b[0m: name 'np' is not defined"
     ]
    }
   ],
   "source": [
    "### Problem 8\n",
    "# Let's try and do a practical problem\n",
    "# Next lecture will have lots of these, albeit with\n",
    "# a lower difficulty level.\n",
    "seed = '''73167176531330624919225119674426574742355349194934\n",
    "96983520312774506326239578318016984801869478851843\n",
    "85861560789112949495459501737958331952853208805511\n",
    "12540698747158523863050715693290963295227443043557\n",
    "66896648950445244523161731856403098711121722383113\n",
    "62229893423380308135336276614282806444486645238749\n",
    "30358907296290491560440772390713810515859307960866\n",
    "70172427121883998797908792274921901699720888093776\n",
    "65727333001053367881220235421809751254540594752243\n",
    "52584907711670556013604839586446706324415722155397\n",
    "53697817977846174064955149290862569321978468622482\n",
    "83972241375657056057490261407972968652414535100474\n",
    "82166370484403199890008895243450658541227588666881\n",
    "16427171479924442928230863465674813919123162824586\n",
    "17866458359124566529476545682848912883142607690042\n",
    "24219022671055626321111109370544217506941658960408\n",
    "07198403850962455444362981230987879927244284909188\n",
    "84580156166097919133875499200524063689912560717606\n",
    "05886116467109405077541002256983155200055935729725\n",
    "71636269561882670428252483600823257530420752963450'''\n",
    "charform = np.asarray([[int(y) for y in x] for x in seed.split('\\n')])\n",
    "print(charform.shape)\n",
    "# For each entry, check margin on left, right, below, and above. Then compute\n",
    "# Guaranteed to be at least 1 for every entry\n",
    "# Will do this later, need to prep for class lecture"
   ]
  },
  {
   "cell_type": "code",
   "execution_count": 6,
   "metadata": {
    "collapsed": false
   },
   "outputs": [
    {
     "name": "stdout",
     "output_type": "stream",
     "text": [
      "45.91\n"
     ]
    }
   ],
   "source": [
    "info = 'The current price for a bushel of wheat is $45.91 in Mongolia'\n",
    "print(info[44:49])"
   ]
  },
  {
   "cell_type": "code",
   "execution_count": null,
   "metadata": {
    "collapsed": true
   },
   "outputs": [],
   "source": []
  }
 ],
 "metadata": {
  "kernelspec": {
   "display_name": "Python 3",
   "language": "python",
   "name": "python3"
  },
  "language_info": {
   "codemirror_mode": {
    "name": "ipython",
    "version": 3
   },
   "file_extension": ".py",
   "mimetype": "text/x-python",
   "name": "python",
   "nbconvert_exporter": "python",
   "pygments_lexer": "ipython3",
   "version": "3.6.0"
  }
 },
 "nbformat": 4,
 "nbformat_minor": 2
}
