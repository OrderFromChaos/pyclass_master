{
 "cells": [
  {
   "cell_type": "code",
   "execution_count": 4,
   "metadata": {
    "collapsed": false
   },
   "outputs": [
    {
     "name": "stdout",
     "output_type": "stream",
     "text": [
      "Should be -2.06261\n",
      "-2.062611870820258\n"
     ]
    }
   ],
   "source": [
    "# Solution to last week's homework\n",
    "import math\n",
    "# Any sort of function (like these from the math library) can be called something else as well\n",
    "# Here I call them sin, cos, etc. so it's shorter to write the cross_in_tray function.\n",
    "sin = math.sin\n",
    "cos = math.cos\n",
    "exp = math.exp\n",
    "sqrt = math.sqrt # Same as ** 0.5, just more readable\n",
    "pi = math.pi\n",
    "\n",
    "def cross_in_tray(x,y):\n",
    "    return -0.0001*(abs(sin(x)*sin(y)*exp(abs(100-sqrt(x**2+y**2)/pi)))+1)**0.1\n",
    "\n",
    "print('Should be -2.06261')\n",
    "print(cross_in_tray(1.34941,-1.34941))"
   ]
  },
  {
   "cell_type": "code",
   "execution_count": null,
   "metadata": {
    "collapsed": false
   },
   "outputs": [],
   "source": [
    "# Running this will cause an instant kernel crash\n",
    "# This is because it tries to create infinite copies of itself\n",
    "# If you run into any scenarios like this that might crash things\n",
    "#     and you accidentally run it, go to Kernel->Restart.\n",
    "# Note that you will lose all your current variables.\n",
    "def innocuous_function():\n",
    "    try:\n",
    "        innocuous_function()\n",
    "    except RecursionError:\n",
    "        innocuous_function()\n",
    "    return True\n",
    "\n",
    "innocuous_function()"
   ]
  },
  {
   "cell_type": "code",
   "execution_count": null,
   "metadata": {
    "collapsed": true
   },
   "outputs": [],
   "source": [
    "# Other Jupyter stuff I mentioned:\n",
    "# 1. Shift + Enter to run cells (you will use this CONSTANTLY.)\n",
    "# 2. Insert cells before/after under Insert.\n",
    "# 3. Delete cells under Edit\n",
    "# 4. Split cells under Edit"
   ]
  },
  {
   "cell_type": "code",
   "execution_count": null,
   "metadata": {
    "collapsed": true
   },
   "outputs": [],
   "source": [
    "### QUESTIONS BREAK ###"
   ]
  },
  {
   "cell_type": "code",
   "execution_count": 4,
   "metadata": {
    "collapsed": false
   },
   "outputs": [
    {
     "name": "stdout",
     "output_type": "stream",
     "text": [
      "['Daimler', 'Toyota', 'Ford', 'Volkswagen']\n"
     ]
    }
   ],
   "source": [
    "# First, you can add new items to a list using .append\n",
    "car_companies = ['Daimler','Toyota','Ford']\n",
    "car_companies.append('Volkswagen')\n",
    "print(car_companies)"
   ]
  },
  {
   "cell_type": "code",
   "execution_count": 5,
   "metadata": {
    "collapsed": false
   },
   "outputs": [
    {
     "name": "stdout",
     "output_type": "stream",
     "text": [
      "Daimler\n"
     ]
    }
   ],
   "source": [
    "# Reminder from last week - random.choice selects a random element from a list.\n",
    "import random\n",
    "print(random.choice(car_companies))"
   ]
  },
  {
   "cell_type": "code",
   "execution_count": 6,
   "metadata": {
    "collapsed": false
   },
   "outputs": [
    {
     "name": "stdout",
     "output_type": "stream",
     "text": [
      "[19.97952397656872, 19.70268425498125, 2.909084479958821, -18.297674838043534, -17.096222975974204, 3.5163352220153463, -13.710996567867863]\n"
     ]
    }
   ],
   "source": [
    "# Here I produce a dataset, which we'll apply a function to.\n",
    "# Function name is self-explanatory - you haven't learned this yet, so you can ignore most of this cell.\n",
    "import random\n",
    "def some_magic_you_havent_learned_yet():\n",
    "    return [random.random()*40-20 for x in range(7)]\n",
    "\n",
    "dataset = some_magic_you_havent_learned_yet()\n",
    "print(dataset)"
   ]
  },
  {
   "cell_type": "code",
   "execution_count": 7,
   "metadata": {
    "collapsed": false
   },
   "outputs": [
    {
     "name": "stdout",
     "output_type": "stream",
     "text": [
      "19.97952397656872\n",
      "19.70268425498125\n",
      "2.909084479958821\n",
      "-18.297674838043534\n",
      "-17.096222975974204\n",
      "3.5163352220153463\n",
      "-13.710996567867863\n"
     ]
    }
   ],
   "source": [
    "# This gives us context for what the dataset looks like. I personally do this a lot when working with datasets.\n",
    "# This \"for\" statement means I do an operation FOR each thing (here I use the name \"term\") in the dataset.\n",
    "for term in dataset:\n",
    "    print(term)"
   ]
  },
  {
   "cell_type": "code",
   "execution_count": 8,
   "metadata": {
    "collapsed": false
   },
   "outputs": [
    {
     "name": "stdout",
     "output_type": "stream",
     "text": [
      "[19.97952397656872, 19.70268425498125, 2.909084479958821, -18.297674838043534, -17.096222975974204, 3.5163352220153463, -13.710996567867863]\n",
      "[399.1813783302844, 388.19576685148604, 8.462772511537285, 334.80490447877145, 292.2808400442283, 12.364613393585715, 187.99142688408432]\n"
     ]
    }
   ],
   "source": [
    "# Here I apply a function to each thing (here I use the name \"x\") in the dataset.\n",
    "def f(var):\n",
    "    return var ** 2\n",
    "\n",
    "new_dataset = []\n",
    "for x in dataset:\n",
    "    new_dataset.append( f(x) )\n",
    "\n",
    "print(dataset)\n",
    "print(new_dataset)"
   ]
  },
  {
   "cell_type": "code",
   "execution_count": 9,
   "metadata": {
    "collapsed": false
   },
   "outputs": [
    {
     "name": "stdout",
     "output_type": "stream",
     "text": [
      "['Daimler', 'Toyota', 'Ford', 'Volkswagen']\n",
      "Daimler\n",
      "Volkswagen\n"
     ]
    }
   ],
   "source": [
    "# Reminder: Simple indexing from last week. Indices start at 0.\n",
    "print(car_companies)\n",
    "print(car_companies[0])\n",
    "print(car_companies[3])"
   ]
  },
  {
   "cell_type": "code",
   "execution_count": 10,
   "metadata": {
    "collapsed": false
   },
   "outputs": [
    {
     "name": "stdout",
     "output_type": "stream",
     "text": [
      "[794148.51, 913873.96, 582049.76, 1258001.2, 688355.75]\n",
      "[83477.54, 105613.6, 51597.55, 74430.88, 129646.75]\n",
      "[13479.49, 9572.14, 11419.15, 6084.25, 14434.92]\n"
     ]
    }
   ],
   "source": [
    "# Some more magic generation; the important part is the bit that's printed out.\n",
    "# We want to see what the gravitational accel is between each of the two bodies in this system.\n",
    "def magic_planet_data(seed):\n",
    "    return [round(random.random()*10000*seed+5000*seed,2) for x in range(5)]\n",
    "\n",
    "asteroids_1 = magic_planet_data(100)\n",
    "asteroids_2 = magic_planet_data(10)\n",
    "distances = magic_planet_data(1)\n",
    "print(asteroids_1)\n",
    "print(asteroids_2)\n",
    "print(distances)"
   ]
  },
  {
   "cell_type": "code",
   "execution_count": 11,
   "metadata": {
    "collapsed": false
   },
   "outputs": [
    {
     "name": "stdout",
     "output_type": "stream",
     "text": [
      "9.819649737724951\n"
     ]
    }
   ],
   "source": [
    "# Here's a gravitational acceleration definition.\n",
    "# Here we use G*m2/(r**2) because we want to find the acceleration on m1.\n",
    "# If we used the traditional form of Newtonian gravity, we'd be computing the force instead of accel.\n",
    "def grav_accel(m2,r):\n",
    "    G = 6.67408*10**-11\n",
    "    return G*m2/(r**2)\n",
    "\n",
    "american = 80.7\n",
    "earth = 5.972*10**24\n",
    "radius = 6371*10**3\n",
    "print(grav_accel(earth,radius))"
   ]
  },
  {
   "cell_type": "code",
   "execution_count": 12,
   "metadata": {
    "collapsed": false
   },
   "outputs": [
    {
     "name": "stdout",
     "output_type": "stream",
     "text": [
      "794148.51\n",
      "913873.96\n",
      "582049.76\n",
      "1258001.2\n",
      "688355.75\n"
     ]
    }
   ],
   "source": [
    "# The problem with our old method of using FOR loops is that it only tells us one value, not the 2 values we need.\n",
    "# As you can see below, there's not really any way of playing around with it to make it work.\n",
    "for x in asteroids_1:\n",
    "    print(x)"
   ]
  },
  {
   "cell_type": "code",
   "execution_count": 13,
   "metadata": {
    "collapsed": false
   },
   "outputs": [
    {
     "name": "stdout",
     "output_type": "stream",
     "text": [
      "[3.06629636891565e-14, 7.692954623667672e-14, 2.6409059377794626e-14, 1.3419318484480012e-13, 4.152639969509397e-14]\n"
     ]
    }
   ],
   "source": [
    "# The solution comes from using the enumerate() function and making sure we get both the index \"i\" and the value \"x\".\n",
    "# We don't really need the value \"x\" since asteroids_1 mass isn't part of the computation,\n",
    "# so I feed in the two value from asteroids_2 and distances into the grav_accel array to finish the problem.\n",
    "asteroid_accel = []\n",
    "for i,x in enumerate(asteroids_1):\n",
    "    asteroid_accel.append(grav_accel(asteroids_2[i],distances[i]))\n",
    "print(asteroid_accel)"
   ]
  },
  {
   "cell_type": "code",
   "execution_count": null,
   "metadata": {
    "collapsed": true
   },
   "outputs": [],
   "source": []
  }
 ],
 "metadata": {
  "anaconda-cloud": {},
  "kernelspec": {
   "display_name": "Python [default]",
   "language": "python",
   "name": "python3"
  },
  "language_info": {
   "codemirror_mode": {
    "name": "ipython",
    "version": 3
   },
   "file_extension": ".py",
   "mimetype": "text/x-python",
   "name": "python",
   "nbconvert_exporter": "python",
   "pygments_lexer": "ipython3",
   "version": "3.5.2"
  }
 },
 "nbformat": 4,
 "nbformat_minor": 1
}
