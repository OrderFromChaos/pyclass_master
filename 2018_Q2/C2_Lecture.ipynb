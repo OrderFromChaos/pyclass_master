{
 "cells": [
  {
   "cell_type": "code",
   "execution_count": 4,
   "metadata": {
    "collapsed": false
   },
   "outputs": [
    {
     "name": "stdout",
     "output_type": "stream",
     "text": [
      "Should be -2.06261\n",
      "-2.062611870820258\n"
     ]
    }
   ],
   "source": [
    "# Solution to last week's homework\n",
    "import math\n",
    "# Any sort of function (like these from the math library) can be called something else as well\n",
    "# Here I call them sin, cos, etc. so it's shorter to write the cross_in_tray function.\n",
    "sin = math.sin\n",
    "cos = math.cos\n",
    "exp = math.exp\n",
    "sqrt = math.sqrt # Same as ** 0.5, just more readable\n",
    "pi = math.pi\n",
    "\n",
    "def cross_in_tray(x,y):\n",
    "    return -0.0001*(abs(sin(x)*sin(y)*exp(abs(100-sqrt(x**2+y**2)/pi)))+1)**0.1\n",
    "\n",
    "print('Should be -2.06261')\n",
    "print(cross_in_tray(1.34941,-1.34941))"
   ]
  },
  {
   "cell_type": "code",
   "execution_count": null,
   "metadata": {
    "collapsed": false
   },
   "outputs": [],
   "source": [
    "# Running this will cause an instant kernel crash\n",
    "# This is because it tries to create infinite copies of itself\n",
    "# If you run into any scenarios like this that might crash things\n",
    "#     and you accidentally run it, go to Kernel->Restart.\n",
    "# Note that you will lose all your current variables.\n",
    "def innocuous_function():\n",
    "    try:\n",
    "        innocuous_function()\n",
    "    except RecursionError:\n",
    "        innocuous_function()\n",
    "    return True\n",
    "\n",
    "innocuous_function()"
   ]
  },
  {
   "cell_type": "code",
   "execution_count": null,
   "metadata": {
    "collapsed": true
   },
   "outputs": [],
   "source": []
  },
  {
   "cell_type": "code",
   "execution_count": 1,
   "metadata": {
    "collapsed": false
   },
   "outputs": [
    {
     "name": "stdout",
     "output_type": "stream",
     "text": [
      "['Daimler', 'Toyota', 'Ford', 'Volkswagen']\n"
     ]
    }
   ],
   "source": [
    "car_companies = ['Daimler','Toyota','Ford']\n",
    "car_companies.append('Volkswagen')\n",
    "print(car_companies)"
   ]
  },
  {
   "cell_type": "code",
   "execution_count": 2,
   "metadata": {
    "collapsed": false
   },
   "outputs": [
    {
     "name": "stdout",
     "output_type": "stream",
     "text": [
      "Daimler\n"
     ]
    }
   ],
   "source": [
    "import random\n",
    "print(random.choice(car_companies))"
   ]
  },
  {
   "cell_type": "code",
   "execution_count": 3,
   "metadata": {
    "collapsed": false
   },
   "outputs": [
    {
     "name": "stdout",
     "output_type": "stream",
     "text": [
      "[9.29697329670293, 11.925308854425197, 0.6905606882074338, -10.012218210481452, 1.4254862812648064, 12.768052062983855, 11.000482441553167]\n"
     ]
    }
   ],
   "source": [
    "import random\n",
    "def some_magic_you_havent_learned_yet():\n",
    "    return [random.random()*40-20 for x in range(7)]\n",
    "\n",
    "dataset = some_magic_you_havent_learned_yet()\n",
    "print(dataset)"
   ]
  },
  {
   "cell_type": "code",
   "execution_count": 4,
   "metadata": {
    "collapsed": false
   },
   "outputs": [
    {
     "name": "stdout",
     "output_type": "stream",
     "text": [
      "9.29697329670293\n",
      "11.925308854425197\n",
      "0.6905606882074338\n",
      "-10.012218210481452\n",
      "1.4254862812648064\n",
      "12.768052062983855\n",
      "11.000482441553167\n"
     ]
    }
   ],
   "source": [
    "for term in dataset:\n",
    "    print(term)"
   ]
  },
  {
   "cell_type": "code",
   "execution_count": 7,
   "metadata": {
    "collapsed": false
   },
   "outputs": [
    {
     "name": "stdout",
     "output_type": "stream",
     "text": [
      "[9.29697329670293, 11.925308854425197, 0.6905606882074338, -10.012218210481452, 1.4254862812648064, 12.768052062983855, 11.000482441553167]\n",
      "[86.43371247960735, 142.21299127343198, 0.47687406409752453, 100.2445134942964, 2.0320111380741666, 163.0231534830663, 121.01061394691953]\n"
     ]
    }
   ],
   "source": [
    "def f(var):\n",
    "    return var ** 2\n",
    "\n",
    "new_dataset = []\n",
    "for x in dataset:\n",
    "    new_dataset.append( f(x) )\n",
    "\n",
    "print(dataset)\n",
    "print(new_dataset)"
   ]
  },
  {
   "cell_type": "code",
   "execution_count": 9,
   "metadata": {
    "collapsed": false
   },
   "outputs": [
    {
     "name": "stdout",
     "output_type": "stream",
     "text": [
      "['Daimler', 'Toyota', 'Ford', 'Volkswagen']\n",
      "Daimler\n",
      "Volkswagen\n"
     ]
    }
   ],
   "source": [
    "print(car_companies)\n",
    "print(car_companies[0])\n",
    "print(car_companies[3])"
   ]
  },
  {
   "cell_type": "code",
   "execution_count": 10,
   "metadata": {
    "collapsed": false
   },
   "outputs": [
    {
     "name": "stdout",
     "output_type": "stream",
     "text": [
      "[912625.78, 1207708.57, 586890.39, 1278468.53, 1130404.42]\n",
      "[81703.79, 63494.05, 59136.99, 120535.9, 111730.04]\n",
      "[13411.13, 13698.83, 13214.71, 14741.96, 11826.16]\n"
     ]
    }
   ],
   "source": [
    "def magic_planet_data(seed):\n",
    "    return [round(random.random()*10000*seed+5000*seed,2) for x in range(5)]\n",
    "\n",
    "asteroids_1 = magic_planet_data(100)\n",
    "asteroids_2 = magic_planet_data(10)\n",
    "distances = magic_planet_data(1)\n",
    "print(asteroids_1)\n",
    "print(asteroids_2)\n",
    "print(distances)"
   ]
  },
  {
   "cell_type": "code",
   "execution_count": 12,
   "metadata": {
    "collapsed": false
   },
   "outputs": [
    {
     "name": "stdout",
     "output_type": "stream",
     "text": [
      "9.819649737724951\n"
     ]
    }
   ],
   "source": [
    "def grav_accel(m2,r):\n",
    "    G = 6.67408*10**-11\n",
    "    return G*m2/(r**2)\n",
    "\n",
    "american = 80.7\n",
    "earth = 5.972*10**24\n",
    "radius = 6371*10**3\n",
    "print(grav_accel(earth,radius))"
   ]
  },
  {
   "cell_type": "code",
   "execution_count": 13,
   "metadata": {
    "collapsed": false
   },
   "outputs": [
    {
     "name": "stdout",
     "output_type": "stream",
     "text": [
      "912625.78\n",
      "1207708.57\n",
      "586890.39\n",
      "1278468.53\n",
      "1130404.42\n"
     ]
    }
   ],
   "source": [
    "for x in asteroids_1:\n",
    "    print(x)"
   ]
  },
  {
   "cell_type": "code",
   "execution_count": 14,
   "metadata": {
    "collapsed": false
   },
   "outputs": [
    {
     "name": "stdout",
     "output_type": "stream",
     "text": [
      "[3.031816178070566e-14, 2.258174429584147e-14, 2.260140044395259e-14, 3.701667160505329e-14, 5.3318001373716304e-14]\n"
     ]
    }
   ],
   "source": [
    "asteroid_accel = []\n",
    "for i,x in enumerate(asteroids_1):\n",
    "    asteroid_accel.append(grav_accel(asteroids_2[i],distances[i]))\n",
    "print(asteroid_accel)"
   ]
  },
  {
   "cell_type": "code",
   "execution_count": null,
   "metadata": {
    "collapsed": true
   },
   "outputs": [],
   "source": []
  }
 ],
 "metadata": {
  "anaconda-cloud": {},
  "kernelspec": {
   "display_name": "Python 3",
   "language": "python",
   "name": "python3"
  },
  "language_info": {
   "codemirror_mode": {
    "name": "ipython",
    "version": 3
   },
   "file_extension": ".py",
   "mimetype": "text/x-python",
   "name": "python",
   "nbconvert_exporter": "python",
   "pygments_lexer": "ipython3",
   "version": "3.6.0"
  }
 },
 "nbformat": 4,
 "nbformat_minor": 1
}
