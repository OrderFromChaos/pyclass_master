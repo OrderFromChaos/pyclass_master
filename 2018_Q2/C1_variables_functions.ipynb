{
 "cells": [
  {
   "cell_type": "code",
   "execution_count": 1,
   "metadata": {
    "collapsed": false
   },
   "outputs": [
    {
     "name": "stdout",
     "output_type": "stream",
     "text": [
      "Hello world!\n"
     ]
    }
   ],
   "source": [
    "# Let's start out with a basic introduction: the print function\n",
    "print('Hello world!')\n",
    "# Functions such as this are fundamental to programing\n",
    "# (Math 10AB discussion)\n",
    "# String -> Printing in print area\n",
    "# Functions in CS are generalizations of this"
   ]
  },
  {
   "cell_type": "code",
   "execution_count": 10,
   "metadata": {
    "collapsed": false
   },
   "outputs": [
    {
     "name": "stdout",
     "output_type": "stream",
     "text": [
      "https://en.wikipedia.org/wiki/Himmelblau%27s_function\n",
      "2.766146747397414e-05\n"
     ]
    }
   ],
   "source": [
    "# Why computer science?\n",
    "# One answer: solve complex equations without having to type them in every time\n",
    "# Let's do Himmelblau's function\n",
    "print('https://en.wikipedia.org/wiki/Himmelblau%27s_function')\n",
    "# It takes in an x and y\n",
    "x = -3.78\n",
    "y = -3.283186\n",
    "answer = (x**2 + y - 11)**2 + (x + y**2 - 7)**2\n",
    "print(answer)\n",
    "# Test zeroes at these (to show how much faster it is):\n",
    "# 3,2\n",
    "# -2.8051,3.1313\n",
    "# -3.7793,-3.2832\n",
    "# 3.5844,-1.8481"
   ]
  },
  {
   "cell_type": "code",
   "execution_count": 11,
   "metadata": {
    "collapsed": false
   },
   "outputs": [
    {
     "name": "stdout",
     "output_type": "stream",
     "text": [
      "0\n"
     ]
    }
   ],
   "source": [
    "# To make this a little faster, we can wrap it inside a \"function\"\n",
    "def himmelblau(x,y):\n",
    "    answer = (x**2 + y - 11)**2 + (x + y**2 - 7)**2\n",
    "    return answer\n",
    "\n",
    "print(himmelblau(3,2))"
   ]
  },
  {
   "cell_type": "code",
   "execution_count": 15,
   "metadata": {
    "collapsed": false
   },
   "outputs": [
    {
     "name": "stdout",
     "output_type": "stream",
     "text": [
      "(-2.0, -3.0)\n"
     ]
    }
   ],
   "source": [
    "# Putting it into a function lets us do multiple things at once\n",
    "def quadratic_formula(a,b,c):\n",
    "    # solutions to ax^2 + bx + c\n",
    "    plus_val = (-b+(b**2-4*a*c)**0.5)/(2*a)\n",
    "    minus_val = (-b-(b**2-4*a*c)**0.5)/(2*a)\n",
    "    return plus_val, minus_val\n",
    "\n",
    "print(quadratic_formula(1,5,6))"
   ]
  },
  {
   "cell_type": "code",
   "execution_count": 1,
   "metadata": {
    "collapsed": true
   },
   "outputs": [],
   "source": [
    "# Any questions?"
   ]
  },
  {
   "cell_type": "code",
   "execution_count": 14,
   "metadata": {
    "collapsed": false
   },
   "outputs": [
    {
     "name": "stdout",
     "output_type": "stream",
     "text": [
      "2.718281828459045\n",
      "120\n"
     ]
    }
   ],
   "source": [
    "# Sometimes you want functions that would take a while to write yourself,\n",
    "# but are commonly used in programming. To do this, you can import a library\n",
    "# (which comes with functions!)\n",
    "import math\n",
    "print(math.e)\n",
    "print(math.factorial(5)) # Expected: 5*4*3*2*1 = 120"
   ]
  },
  {
   "cell_type": "code",
   "execution_count": 15,
   "metadata": {
    "collapsed": false
   },
   "outputs": [
    {
     "name": "stdout",
     "output_type": "stream",
     "text": [
      "4\n",
      "red\n"
     ]
    }
   ],
   "source": [
    "import random\n",
    "print(random.randint(1,100))\n",
    "# What to wear?\n",
    "# (Using something called a list)\n",
    "print(random.choice(['red','blue','white','green','black']))"
   ]
  },
  {
   "cell_type": "code",
   "execution_count": 19,
   "metadata": {
    "collapsed": false
   },
   "outputs": [
    {
     "ename": "FailSafeException",
     "evalue": "PyAutoGUI fail-safe triggered from mouse moving to upper-left corner. To disable this fail-safe, set pyautogui.FAILSAFE to False.",
     "output_type": "error",
     "traceback": [
      "\u001b[0;31m---------------------------------------------------------------------------\u001b[0m",
      "\u001b[0;31mFailSafeException\u001b[0m                         Traceback (most recent call last)",
      "\u001b[0;32m<ipython-input-19-84482e7e5ee4>\u001b[0m in \u001b[0;36m<module>\u001b[0;34m()\u001b[0m\n\u001b[1;32m     19\u001b[0m \u001b[1;32mfor\u001b[0m \u001b[0mt\u001b[0m \u001b[1;32min\u001b[0m \u001b[0mnp\u001b[0m\u001b[1;33m.\u001b[0m\u001b[0marange\u001b[0m\u001b[1;33m(\u001b[0m\u001b[1;36m0.0\u001b[0m\u001b[1;33m,\u001b[0m\u001b[1;36m45.0\u001b[0m\u001b[1;33m,\u001b[0m\u001b[0mT_QUALITY\u001b[0m\u001b[1;33m)\u001b[0m\u001b[1;33m:\u001b[0m \u001b[1;31m# Go up by values of T_QUALITY\u001b[0m\u001b[1;33m\u001b[0m\u001b[0m\n\u001b[1;32m     20\u001b[0m     pa.dragTo(CENTER[0] + SCALING*((A-B)*math.cos(t) + H*math.cos((A-B)/B*t)),\n\u001b[0;32m---> 21\u001b[0;31m               CENTER[1] + SCALING*((A-B)*math.sin(t) - H*math.sin((A-B)/B*t)))\n\u001b[0m",
      "\u001b[0;32mC:\\Users\\Syris Norelli\\Anaconda3\\lib\\site-packages\\pyautogui\\__init__.py\u001b[0m in \u001b[0;36mdragTo\u001b[0;34m(x, y, duration, tween, button, pause, _pause)\u001b[0m\n\u001b[1;32m    678\u001b[0m       \u001b[1;32mNone\u001b[0m\u001b[1;33m\u001b[0m\u001b[0m\n\u001b[1;32m    679\u001b[0m     \"\"\"\n\u001b[0;32m--> 680\u001b[0;31m     \u001b[0m_failSafeCheck\u001b[0m\u001b[1;33m(\u001b[0m\u001b[1;33m)\u001b[0m\u001b[1;33m\u001b[0m\u001b[0m\n\u001b[0m\u001b[1;32m    681\u001b[0m     \u001b[1;32mif\u001b[0m \u001b[0mtype\u001b[0m\u001b[1;33m(\u001b[0m\u001b[0mx\u001b[0m\u001b[1;33m)\u001b[0m \u001b[1;32min\u001b[0m \u001b[1;33m(\u001b[0m\u001b[0mtuple\u001b[0m\u001b[1;33m,\u001b[0m \u001b[0mlist\u001b[0m\u001b[1;33m)\u001b[0m\u001b[1;33m:\u001b[0m\u001b[1;33m\u001b[0m\u001b[0m\n\u001b[1;32m    682\u001b[0m         \u001b[0mx\u001b[0m\u001b[1;33m,\u001b[0m \u001b[0my\u001b[0m \u001b[1;33m=\u001b[0m \u001b[0mx\u001b[0m\u001b[1;33m[\u001b[0m\u001b[1;36m0\u001b[0m\u001b[1;33m]\u001b[0m\u001b[1;33m,\u001b[0m \u001b[0mx\u001b[0m\u001b[1;33m[\u001b[0m\u001b[1;36m1\u001b[0m\u001b[1;33m]\u001b[0m\u001b[1;33m\u001b[0m\u001b[0m\n",
      "\u001b[0;32mC:\\Users\\Syris Norelli\\Anaconda3\\lib\\site-packages\\pyautogui\\__init__.py\u001b[0m in \u001b[0;36m_failSafeCheck\u001b[0;34m()\u001b[0m\n\u001b[1;32m   1007\u001b[0m \u001b[1;32mdef\u001b[0m \u001b[0m_failSafeCheck\u001b[0m\u001b[1;33m(\u001b[0m\u001b[1;33m)\u001b[0m\u001b[1;33m:\u001b[0m\u001b[1;33m\u001b[0m\u001b[0m\n\u001b[1;32m   1008\u001b[0m     \u001b[1;32mif\u001b[0m \u001b[0mFAILSAFE\u001b[0m \u001b[1;32mand\u001b[0m \u001b[0mposition\u001b[0m\u001b[1;33m(\u001b[0m\u001b[1;33m)\u001b[0m \u001b[1;33m==\u001b[0m \u001b[1;33m(\u001b[0m\u001b[1;36m0\u001b[0m\u001b[1;33m,\u001b[0m \u001b[1;36m0\u001b[0m\u001b[1;33m)\u001b[0m\u001b[1;33m:\u001b[0m\u001b[1;33m\u001b[0m\u001b[0m\n\u001b[0;32m-> 1009\u001b[0;31m         \u001b[1;32mraise\u001b[0m \u001b[0mFailSafeException\u001b[0m\u001b[1;33m(\u001b[0m\u001b[1;34m'PyAutoGUI fail-safe triggered from mouse moving to upper-left corner. To disable this fail-safe, set pyautogui.FAILSAFE to False.'\u001b[0m\u001b[1;33m)\u001b[0m\u001b[1;33m\u001b[0m\u001b[0m\n\u001b[0m\u001b[1;32m   1010\u001b[0m \u001b[1;33m\u001b[0m\u001b[0m\n\u001b[1;32m   1011\u001b[0m \u001b[1;33m\u001b[0m\u001b[0m\n",
      "\u001b[0;31mFailSafeException\u001b[0m: PyAutoGUI fail-safe triggered from mouse moving to upper-left corner. To disable this fail-safe, set pyautogui.FAILSAFE to False."
     ]
    }
   ],
   "source": [
    "# Computers are mathematical playgrounds. As long as you know the math or opcodes to do a thing, you can do it.\n",
    "# As an example of how much you can do with Python, here's a method of drawing *spirographs* mathematically.\n",
    "import pyautogui as pa # Mouse control\n",
    "import math            # Setting up the parametric equations\n",
    "import numpy as np     # Some loop stuff\n",
    "\n",
    "CENTER = [800,520]\n",
    "### Hyperparameters\n",
    "A = 10\n",
    "B = 593/173\n",
    "H = 189/45\n",
    "T_QUALITY = 0.1\n",
    "SCALING = 22\n",
    "\n",
    "pa.moveTo(CENTER[0] + SCALING*((A-B)*math.cos(0) + H*math.cos((A-B)/B*0)),\n",
    "            CENTER[1] + SCALING*((A-B)*math.sin(0) - H*math.sin((A-B)/B*0)),\n",
    "         duration=1)\n",
    "\n",
    "for t in np.arange(0.0,45.0,T_QUALITY): # Go up by values of T_QUALITY\n",
    "    pa.dragTo(CENTER[0] + SCALING*((A-B)*math.cos(t) + H*math.cos((A-B)/B*t)),\n",
    "              CENTER[1] + SCALING*((A-B)*math.sin(t) - H*math.sin((A-B)/B*t)))"
   ]
  },
  {
   "cell_type": "code",
   "execution_count": null,
   "metadata": {
    "collapsed": true
   },
   "outputs": [],
   "source": []
  }
 ],
 "metadata": {
  "anaconda-cloud": {},
  "kernelspec": {
   "display_name": "Python 3",
   "language": "python",
   "name": "python3"
  },
  "language_info": {
   "codemirror_mode": {
    "name": "ipython",
    "version": 3
   },
   "file_extension": ".py",
   "mimetype": "text/x-python",
   "name": "python",
   "nbconvert_exporter": "python",
   "pygments_lexer": "ipython3",
   "version": "3.6.0"
  }
 },
 "nbformat": 4,
 "nbformat_minor": 2
}
