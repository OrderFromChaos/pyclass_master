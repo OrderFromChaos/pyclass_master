{
 "cells": [
  {
   "cell_type": "code",
   "execution_count": 5,
   "metadata": {
    "collapsed": false
   },
   "outputs": [
    {
     "name": "stdout",
     "output_type": "stream",
     "text": [
      "range(0, 10)\n",
      "[0, 1, 2, 3, 4, 5, 6, 7, 8, 9]\n",
      "[1, 3, 5, 7, 9, 0, 8, 6, 4, 2]\n",
      "0 1\n",
      "1 3\n",
      "2 5\n",
      "3 7\n",
      "4 9\n",
      "5 0\n",
      "6 8\n",
      "7 6\n",
      "8 4\n",
      "9 2\n",
      "\n",
      "0 1\n",
      "1 3\n",
      "2 5\n",
      "3 7\n",
      "4 9\n",
      "5 0\n",
      "6 8\n",
      "7 6\n",
      "8 4\n",
      "9 2\n"
     ]
    }
   ],
   "source": [
    "### Homework solution\n",
    "# Remember range(len(dataset))\n",
    "dataset = [1,3,5,7,9,0,8,6,4,2]\n",
    "print(range(len(dataset)))\n",
    "print(list(range(len(dataset))))\n",
    "print(dataset)\n",
    "\n",
    "for i,x in enumerate(dataset):\n",
    "    print(i,x)\n",
    "\n",
    "print()\n",
    "for i,x in zip(range(len(dataset)),dataset):\n",
    "    print(i,x)"
   ]
  },
  {
   "cell_type": "code",
   "execution_count": 6,
   "metadata": {
    "collapsed": false
   },
   "outputs": [
    {
     "name": "stdout",
     "output_type": "stream",
     "text": [
      "['Have you read the highlander recently?', \"I'm not sure when the funding from asucr will come in.\", 'I need 15 units to be full time.', 'Meet me at the bell tower.']\n"
     ]
    }
   ],
   "source": [
    "# Remember this from before? We had to use [1:] to solve it properly...\n",
    "# But what is [1:]?\n",
    "lower = ['a','b','c','d','e','f','g','h','i','j','k','l','m','n','o','p','q','r','s','t','u','v','w','x','y','z']\n",
    "upper = ['A','B','C','D','E','F','G','H','I','J','K','L','M','N','O','P','Q','R','S','T','U','V','W','X','Y','Z']\n",
    "sentences = [\n",
    "    'have you read the highlander recently?',\n",
    "    'i\\'m not sure when the funding from asucr will come in.',\n",
    "    'i need 15 units to be full time.',\n",
    "    'meet me at the bell tower.'\n",
    "]\n",
    "\n",
    "for i,x in enumerate(sentences):\n",
    "    sentences[i] = upper[lower.index(sentences[i][0])] + sentences[i][1:]\n",
    "print(sentences)"
   ]
  },
  {
   "cell_type": "code",
   "execution_count": 11,
   "metadata": {
    "collapsed": false
   },
   "outputs": [
    {
     "name": "stdout",
     "output_type": "stream",
     "text": [
      "Three o'clock\n",
      "Three o'clock\n",
      " is always too late or two early for anything you want to do.\n",
      "['oranges', 'peaches', 'dragonfruit']\n",
      "['oranges', 'peaches', 'dragonfruit']\n"
     ]
    }
   ],
   "source": [
    "# [1:] is a form of indexing, but it's the fully fledged version.\n",
    "# Here are some samples:\n",
    "test = 'Three o\\'clock is always too late or two early for anything you want to do.'\n",
    "print(test[0:13])\n",
    "print(test[:13])\n",
    "print(test[13:])\n",
    "test2 = ['apples','bananas','oranges','peaches','dragonfruit']\n",
    "print(test2[2:5])\n",
    "print(test2[2:])"
   ]
  },
  {
   "cell_type": "code",
   "execution_count": 16,
   "metadata": {
    "collapsed": false
   },
   "outputs": [
    {
     "name": "stdout",
     "output_type": "stream",
     "text": [
      "abcdefghijklmnopqrstuvwxyz\n",
      "acegikmoqsuwy\n",
      "zyxwvutsrqponmlkjihgfedcba\n"
     ]
    }
   ],
   "source": [
    "# Indexing allows allows for a third argument: step\n",
    "# Indexing also takes negative arguments\n",
    "alphabet = 'abcdefghijklmnopqrstuvwxyz'\n",
    "print(alphabet[:])\n",
    "print(alphabet[::2])\n",
    "print(alphabet[::-1])"
   ]
  },
  {
   "cell_type": "code",
   "execution_count": 21,
   "metadata": {
    "collapsed": false
   },
   "outputs": [
    {
     "name": "stdout",
     "output_type": "stream",
     "text": [
      "ghijklmnopqrstuvwxyz\n",
      "abcdefghijklmnopqrstuvwx\n",
      "abcdefghijklmnopqrstuvwx\n",
      "zyxwvutsrqponmlkjihgfedcba\n"
     ]
    }
   ],
   "source": [
    "print(alphabet[-20:]) # Not that useful practically\n",
    "print(alphabet[:-2]) # Useful for removing end data\n",
    "print(alphabet[:len(alphabet)-2]) # Equivalent to above\n",
    "print(alphabet[::-1]) # Concise flipping of a list or string"
   ]
  },
  {
   "cell_type": "code",
   "execution_count": 26,
   "metadata": {
    "collapsed": false
   },
   "outputs": [
    {
     "name": "stdout",
     "output_type": "stream",
     "text": [
      "[0, 1, 2, 3, 4, 5, 6, 7, 8, 9]\n",
      "[100, 99, 98, 97, 96, 95, 94, 93, 92, 91, 90, 89, 88, 87, 86, 85, 84, 83, 82, 81, 80, 79, 78, 77, 76, 75, 74, 73, 72, 71, 70, 69, 68, 67, 66, 65, 64, 63, 62, 61, 60, 59, 58, 57, 56, 55, 54, 53, 52, 51, 50, 49, 48, 47, 46, 45, 44, 43, 42, 41, 40, 39, 38, 37, 36, 35, 34, 33, 32, 31, 30, 29, 28, 27, 26, 25, 24, 23, 22, 21, 20, 19, 18, 17, 16, 15, 14, 13, 12, 11, 10, 9, 8, 7, 6, 5, 4, 3, 2, 1]\n"
     ]
    }
   ],
   "source": [
    "# [start:end:step]\n",
    "# Interestingly, range is the same structure\n",
    "print(list(range(10)))\n",
    "print(list(range(100,0,-1)))"
   ]
  },
  {
   "cell_type": "code",
   "execution_count": 37,
   "metadata": {
    "collapsed": false
   },
   "outputs": [
    {
     "name": "stdout",
     "output_type": "stream",
     "text": [
      "['I had blast at the water park yesterday!']\n",
      "Not allowed.\n",
      "['I had blast at the water park yesterday!']\n"
     ]
    }
   ],
   "source": [
    "# Introductory sample for if statements\n",
    "def user_123456(friend_req):\n",
    "    friends = ['John','Yarick']\n",
    "    messages = ['I had blast at the water park yesterday!']\n",
    "    if friend_req in friends:\n",
    "        return messages\n",
    "    else:\n",
    "        return 'Not allowed.'\n",
    "\n",
    "print(user_123456('John'))\n",
    "print(user_123456('Sydney'))\n",
    "print(user_123456('Yarick'))"
   ]
  },
  {
   "cell_type": "code",
   "execution_count": 36,
   "metadata": {
    "collapsed": false
   },
   "outputs": [
    {
     "name": "stdout",
     "output_type": "stream",
     "text": [
      "You got into the treasure.\n",
      "After seeing the surface level treasure, you notice a secret compartment on the bottom of the drawer. Detailed inside are instruction to enter the nearby sealed cultist building.\n",
      "After seeing the surface level treasure, you notice a secret compartment on the bottom of the drawer. Detailed inside are instruction to enter the nearby sealed cultist building.\n",
      "It is raining today.\n",
      "It is raining today.\n"
     ]
    }
   ],
   "source": [
    "### Taxonomy of if statements\n",
    "\n",
    "### 1. Simple equality check\n",
    "key = 2\n",
    "if key == 2:\n",
    "    print('You got into the treasure.')\n",
    "\n",
    "### 2. Branching if statement\n",
    "key = 3\n",
    "if key == 2:\n",
    "    print('You got into the treasure.')\n",
    "elif key == 3: # Checks only if the last condition failed (ie key != 2)\n",
    "    print('After seeing the surface level treasure, you notice a secret compartment on the bottom of the drawer. Detailed inside are instruction to enter the nearby sealed cultist building.')\n",
    "\n",
    "### 3. The else clause\n",
    "import random\n",
    "key = random.randint(2,10)\n",
    "if key == 2:\n",
    "    print('You got into the treasure.')\n",
    "elif key == 3:\n",
    "    print('After seeing the surface level treasure, you notice a secret compartment on the bottom of the drawer. Detailed inside are instruction to enter the nearby sealed cultist building.')\n",
    "elif key == 4:\n",
    "    print('When you insert the key into the lock, you realize too late that the chest is a mimic. You are eaten by the treasure chest. Game over.')\n",
    "else: # Runs if all previous conditions failed. Be careful! This can run if key = -1581203, which is unexpected behavior.\n",
    "    print('You try the lock, but the key doesn\\'t fit')\n",
    "\n",
    "### 4. Boolean values\n",
    "raining_today = True\n",
    "if raining_today == True:\n",
    "    print('It is raining today.')\n",
    "else:\n",
    "    print('It is NOT raining today.')\n",
    "if raining_today: # No equality! \"if\" understands True already - in fact, that's what it look for\n",
    "    print('It is raining today.')\n",
    "else:\n",
    "    print('It is NOT raining today.')"
   ]
  },
  {
   "cell_type": "code",
   "execution_count": 43,
   "metadata": {
    "collapsed": false
   },
   "outputs": [
    {
     "name": "stdout",
     "output_type": "stream",
     "text": [
      "Logic is not broken!\n",
      "Logic is fine\n"
     ]
    }
   ],
   "source": [
    "if 5 >= 6: # Greater than or equal to\n",
    "    print('Math is broken.')\n",
    "if 2 != 5: # Not equal to\n",
    "    print('Logic is not broken!')\n",
    "# Can chain together truth-sounding statements freely\n",
    "if (True or False) and (True or False):\n",
    "    print('Logic is fine')"
   ]
  },
  {
   "cell_type": "code",
   "execution_count": 45,
   "metadata": {
    "collapsed": false
   },
   "outputs": [
    {
     "name": "stdout",
     "output_type": "stream",
     "text": [
      "[1, 4, 9, 16, 25, 36, 49, 64, 81, 100]\n",
      "[1, 4, 9, 16, 25, 36, 49, 64, 81, 100]\n"
     ]
    }
   ],
   "source": [
    "# Wow, four lines for a for loop\n",
    "squares = []\n",
    "for i in range(1,11):\n",
    "    squares.append(i**2)\n",
    "print(squares)\n",
    "\n",
    "# _-List comprehensions are BETTER-_ (potentially one line if you just want to print it)\n",
    "# Oh, and faster.\n",
    "squares = [x**2 for x in range(1,11)]\n",
    "print(squares)"
   ]
  },
  {
   "cell_type": "code",
   "execution_count": null,
   "metadata": {
    "collapsed": true
   },
   "outputs": [],
   "source": []
  }
 ],
 "metadata": {
  "anaconda-cloud": {},
  "kernelspec": {
   "display_name": "Python 3",
   "language": "python",
   "name": "python3"
  },
  "language_info": {
   "codemirror_mode": {
    "name": "ipython",
    "version": 3
   },
   "file_extension": ".py",
   "mimetype": "text/x-python",
   "name": "python",
   "nbconvert_exporter": "python",
   "pygments_lexer": "ipython3",
   "version": "3.6.0"
  }
 },
 "nbformat": 4,
 "nbformat_minor": 1
}
