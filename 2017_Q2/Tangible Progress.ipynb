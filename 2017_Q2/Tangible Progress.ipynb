{
 "cells": [
  {
   "cell_type": "code",
   "execution_count": null,
   "metadata": {
    "collapsed": true
   },
   "outputs": [],
   "source": [
    "# This happened just recently (4/15/2017).\n",
    "# I was trying to clean up some text data which included newlines, and I needed\n",
    "# to cut it at those newlines without running into faults.\n",
    "# First, the spaghetti code I wrote in January:\n",
    "# ---------------------------------------------------------------\n",
    "def cleanListing(mess):\n",
    "    mess = mess[mess.index('\\n')+1:]\n",
    "    prices = []\n",
    "    ohman = 0\n",
    "    #Extremely sloppy implementation; later I intend to figure out a more Pythonic way of doing things.\n",
    "    while '\\n' in mess:\n",
    "        for mess_iterator in range(3):\n",
    "            mess = mess[mess.index('\\n')+1:]\n",
    "            #This catches the file reader if it runs into the end of file before expected.\n",
    "            if mess.strip() == 'Counter-Strike: Global Offensive':\n",
    "                ohman = 1\n",
    "                break\n",
    "        if ohman == 1:\n",
    "            break\n",
    "        prices.append(mess[:mess.index('\\n')])\n",
    "        mess = mess[mess.index('\\n')+1:]\n",
    "        \n",
    "    return prices\n",
    "\n",
    "def cleanName(name):\n",
    "    for nameiterator in range(3):\n",
    "        name = name[name.index('\\n')+1:]\n",
    "    name = name[:name.index('\\n')]\n",
    "    return name\n",
    "# ---------------------------------------------------------------\n",
    "# Amazingly, it took me 22 lines to write this simple code! I found it and rewrote it in 6.\n",
    "# ---------------------------------------------------------------\n",
    "def cleanListing(mess):\n",
    "    mess = mess.split('\\n')\n",
    "    return [mess[x] for x in range(4,len(mess),4)] #Select every fourth value\n",
    "\n",
    "def cleanName(name):\n",
    "    return name.split('\\n')[3]\n",
    "# ---------------------------------------------------------------\n",
    "# Technically not same the same, since I figured it out in an hour, but here's another.\n",
    "# My initial code is shown first. The second code achieves the same thing. 11 lines to 2!\n",
    "# ---------------------------------------------------------------\n",
    "b = b[b.find('var line1')+11:b.find(']];')+1] #Gets all price data from chart\n",
    "#Format: [\"Apr 15 2017 18: +0\",12.09,\"1\"],[\"Apr 15 2017 19: +0\",14.27,\"1\"],...\n",
    "b = b[1:len(b)-2].split('],[') #data still looks messy af but at least in array\n",
    "b = [x.split(',') for x in b]\n",
    "for i,x in enumerate(b): #Cut to data-readable format\n",
    "    b[i][0] = x[0][1:12]\n",
    "    b[i][1] = float(b[i][1])\n",
    "    del b[i][2]\n",
    "current_month = month[int(time.strftime('%m'))-1]\n",
    "prev_month = month[int(time.strftime('%m'))-2]\n",
    "b = [x for x in b if x[0][:3] == current_month or x[0][:3] == prev_month]\n",
    "vals = [x[1] for x in b]\n",
    "# ---------------------------------------------------------------\n",
    "data = data[data.find('var line1')+10:data.find(']];')+2] #Gets all price data from chart\n",
    "better_data = eval(data) # Fortunately it's already formatted as a Python array, \n",
    "                         # so I literally just need to evaluate it."
   ]
  }
 ],
 "metadata": {
  "anaconda-cloud": {},
  "kernelspec": {
   "display_name": "Python [conda root]",
   "language": "python",
   "name": "conda-root-py"
  },
  "language_info": {
   "codemirror_mode": {
    "name": "ipython",
    "version": 3
   },
   "file_extension": ".py",
   "mimetype": "text/x-python",
   "name": "python",
   "nbconvert_exporter": "python",
   "pygments_lexer": "ipython3",
   "version": "3.5.2"
  }
 },
 "nbformat": 4,
 "nbformat_minor": 1
}
