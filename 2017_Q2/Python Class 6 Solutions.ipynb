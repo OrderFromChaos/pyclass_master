{
 "cells": [
  {
   "cell_type": "code",
   "execution_count": 4,
   "metadata": {
    "collapsed": false
   },
   "outputs": [
    {
     "data": {
      "text/plain": [
       "125"
      ]
     },
     "execution_count": 4,
     "metadata": {},
     "output_type": "execute_result"
    }
   ],
   "source": [
    "#Problem 6\n",
    "#Return number div 2 if even, mult 3 add 1 if odd.\n",
    "def something(num):\n",
    "    if num % 2 == 0:\n",
    "        return num//2\n",
    "    else:\n",
    "        return 3*num+1\n",
    "\n",
    "something(250)"
   ]
  },
  {
   "cell_type": "code",
   "execution_count": 11,
   "metadata": {
    "collapsed": false
   },
   "outputs": [
    {
     "name": "stdout",
     "output_type": "stream",
     "text": [
      "Put in the Collatz number to check! 3562467\n",
      "66\n"
     ]
    }
   ],
   "source": [
    "#Problem 7\n",
    "#Wrap a while loop around something()\n",
    "\n",
    "# -------------- This approach works... --------------\n",
    "# a = int(input('Put in Collatz number to check! '))\n",
    "# runs = 0\n",
    "# num_in_chain = []\n",
    "# while a != 1:\n",
    "#     a = something(a)\n",
    "#     runs += 1\n",
    "#     num_in_chain.append(a)\n",
    "# print('Took ' + str(runs) + ' cycles!')\n",
    "# print('The numbers in the sequence were as follows:')\n",
    "# print(num_in_chain)\n",
    "\n",
    "# -------------- Or this approach. This is much clearer --------------\n",
    "def checkCollatz(b):\n",
    "    run = 0\n",
    "    while b != 1:\n",
    "        run += 1\n",
    "        b = something(b)\n",
    "    return run\n",
    "\n",
    "print(checkCollatz(int(input('Put in the Collatz number to check! '))))"
   ]
  },
  {
   "cell_type": "code",
   "execution_count": 13,
   "metadata": {
    "collapsed": false
   },
   "outputs": [
    {
     "name": "stdout",
     "output_type": "stream",
     "text": [
      "25164150\n"
     ]
    }
   ],
   "source": [
    "# Solution to problem \n",
    "\n",
    "sumsq = sum([x**2 for x in range(1,101)])\n",
    "sqsum = sum([x for x in range(1,101)])**2\n",
    "print(sqsum-sumsq)"
   ]
  },
  {
   "cell_type": "code",
   "execution_count": null,
   "metadata": {
    "collapsed": true
   },
   "outputs": [],
   "source": []
  }
 ],
 "metadata": {
  "anaconda-cloud": {},
  "kernelspec": {
   "display_name": "Python [conda root]",
   "language": "python",
   "name": "conda-root-py"
  },
  "language_info": {
   "codemirror_mode": {
    "name": "ipython",
    "version": 3
   },
   "file_extension": ".py",
   "mimetype": "text/x-python",
   "name": "python",
   "nbconvert_exporter": "python",
   "pygments_lexer": "ipython3",
   "version": "3.5.2"
  }
 },
 "nbformat": 4,
 "nbformat_minor": 1
}
