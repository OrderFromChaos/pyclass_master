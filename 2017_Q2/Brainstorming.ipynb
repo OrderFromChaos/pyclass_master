{
 "cells": [
  {
   "cell_type": "markdown",
   "metadata": {},
   "source": [
    "## Problem 6:\n",
    "Make a function that: <br/>\n",
    "1. Checks whether something is odd or even.\n",
    "2. If the number is even, divide by two.\n",
    "3. If the number is odd, divide by two.\n",
    "4. Return new number.\n",
    "\n",
    "something(250) -> 125 <br/>\n",
    "something(251) -> 754"
   ]
  },
  {
   "cell_type": "markdown",
   "metadata": {},
   "source": [
    "## Problem 7:\n",
    "Now make a while loop that will run something(x) until the returned number is 1.\n",
    "\n",
    "(This will check to see if a number <span style=\"color:blue\">satisfies the Collatz Conjecture</span>.)"
   ]
  },
  {
   "cell_type": "code",
   "execution_count": null,
   "metadata": {
    "collapsed": true
   },
   "outputs": [],
   "source": []
  }
 ],
 "metadata": {
  "kernelspec": {
   "display_name": "Python [conda root]",
   "language": "python",
   "name": "conda-root-py"
  },
  "language_info": {
   "codemirror_mode": {
    "name": "ipython",
    "version": 3
   },
   "file_extension": ".py",
   "mimetype": "text/x-python",
   "name": "python",
   "nbconvert_exporter": "python",
   "pygments_lexer": "ipython3",
   "version": "3.5.2"
  }
 },
 "nbformat": 4,
 "nbformat_minor": 1
}
