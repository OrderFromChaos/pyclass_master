{
 "cells": [
  {
   "cell_type": "code",
   "execution_count": 7,
   "metadata": {
    "collapsed": false
   },
   "outputs": [
    {
     "name": "stdout",
     "output_type": "stream",
     "text": [
      "[0, 1, 2, 3, 4, 5, 6, 7, 8, 9]\n",
      "[0, 1, 2, 3, 4, 5, 6, 7, 8, 9]\n",
      "[0, 1, 2, 3, 4, 5, 6, 7, 8, 9]\n"
     ]
    }
   ],
   "source": [
    "# --------------====== Problem 0 ======--------------\n",
    "# Make an array with the numbers 0 to 9 inside.\n",
    "\n",
    "# Solution One: using for loop and append\n",
    "zeronine1 = []\n",
    "for i in range(10):\n",
    "    zeronine1.append(i)\n",
    "print(zeronine1)\n",
    "\n",
    "# [PYTHONIC] Solution Two: List comprehension\n",
    "zeronine2 = [x for x in range(10)]\n",
    "print(zeronine2)\n",
    "\n",
    "# [PYTHONIC] Solution Three: Using list() around the generator range()\n",
    "zeronine3 = list(range(10))\n",
    "print(zeronine3)"
   ]
  },
  {
   "cell_type": "code",
   "execution_count": 2,
   "metadata": {
    "collapsed": false
   },
   "outputs": [
    {
     "name": "stdout",
     "output_type": "stream",
     "text": [
      "['here', 'is', 'the', 'sentence', 'you', 'should', 'start', 'with']\n"
     ]
    }
   ],
   "source": [
    "# --------------====== Problem 1 ======--------------\n",
    "# Split a sentence into an array of words\n",
    "a = 'here is the sentence you should start with'\n",
    "b = a.split(' ')\n",
    "print(b)"
   ]
  },
  {
   "cell_type": "code",
   "execution_count": 3,
   "metadata": {
    "collapsed": false
   },
   "outputs": [
    {
     "name": "stdout",
     "output_type": "stream",
     "text": [
      "['HERE', 'IS', 'THE', 'SENTENCE', 'YOU', 'SHOULD', 'START', 'WITH']\n",
      "['HERE', 'IS', 'THE', 'SENTENCE', 'YOU', 'SHOULD', 'START', 'WITH']\n"
     ]
    }
   ],
   "source": [
    "# --------------====== Problem 2 ======--------------\n",
    "# Make everything uppercase (still inside the array)\n",
    "\n",
    "# Solution One: Use a written function and two arrays to look up the proper capital letters\n",
    "def toUpper(word):\n",
    "    # Goal: take a word and turn it into the all caps version of itself\n",
    "    # Step 0: 'here'\n",
    "    # We have to access each of the letters, so we need to put it in more convenient format\n",
    "    base = list(word)\n",
    "    # Step 1: ['h','e','r','e']\n",
    "    # Now I can refer to it by saying \"for i in base\" and I can get each letter.\n",
    "    \n",
    "    # I need to tell Python what it means to switch letters, so I define two arrays.\n",
    "    # The letter position in the lowercase array corresponds to the position in the uppercase array.\n",
    "    capitals = ['A','B','C','D','E','F','G','H','I','J','K','L','M','N','O','P','Q','R','S','T','U','V','W','X','Y','Z']\n",
    "    lower = ['a','b','c','d','e','f','g','h','i','j','k','l','m','n','o','p','q','r','s','t','u','v','w','x','y','z']\n",
    "    \n",
    "    base = ''.join([capitals[lower.index(x)] for x in base])\n",
    "    # Step 2: Look first at the [capitals[lower.index(x)] for x in base] part.\n",
    "    # This looks up the position using a.index(x) and then looks up that position in capitals.\n",
    "    # By the end of this list comprehension, we'll get ['H','E','R','E']\n",
    "    # All that remains is to to put those letters together, so use ''.join().\n",
    "    # This means that I'm putting them together with nothing inbetween.\n",
    "    # If I used 's'.join() for example, it would end up being 'HsEsRsE'.\n",
    "    return base\n",
    "\n",
    "#Since our function accepts words only, we need to feed in each word.\n",
    "c = [toUpper(x) for x in b]\n",
    "print(c)\n",
    "\n",
    "\n",
    "# [PYTHONIC] Solution Two: use str.upper() on the previous sentence, then just split it into \n",
    "# the array. Str.upper() must be used on a string because it is a string method. \n",
    "c = str.upper(a)\n",
    "c = c.split(' ')\n",
    "print(c)"
   ]
  },
  {
   "cell_type": "code",
   "execution_count": 35,
   "metadata": {
    "collapsed": false
   },
   "outputs": [
    {
     "name": "stdout",
     "output_type": "stream",
     "text": [
      "[36, 28, 33, 85, 61, 79, 78, 60]\n"
     ]
    }
   ],
   "source": [
    "# --------------====== Problem 3 ======--------------\n",
    "# Turn each of the words into the sum of their letter positions in the alphabet.\n",
    "# For example: HERE -> 8+5+18+5 = 36\n",
    "# Define an array of capitals so you can look up the position\n",
    "def sumWord(word):\n",
    "    base = list(word)\n",
    "    capitals = ['A','B','C','D','E','F','G','H','I','J','K','L','M','N','O','P','Q','R','S','T','U','V','W','X','Y','Z']\n",
    "    return sum([capitals.index(x)+1 for x in base])\n",
    "    #Add 1 because indexes start at 0\n",
    "\n",
    "d = [sumWord(y) for y in c]\n",
    "print(d)"
   ]
  },
  {
   "cell_type": "code",
   "execution_count": 30,
   "metadata": {
    "collapsed": false
   },
   "outputs": [
    {
     "name": "stdout",
     "output_type": "stream",
     "text": [
      "6\n"
     ]
    }
   ],
   "source": [
    "# def addone():\n",
    "#     def adder(x):\n",
    "#         return x + 1\n",
    "#     return adder\n",
    "\n",
    "# y = addone()\n",
    "# z = y(5)\n",
    "# print(z)"
   ]
  },
  {
   "cell_type": "code",
   "execution_count": 36,
   "metadata": {
    "collapsed": false
   },
   "outputs": [
    {
     "data": {
      "text/plain": [
       "208"
      ]
     },
     "execution_count": 36,
     "metadata": {},
     "output_type": "execute_result"
    }
   ],
   "source": [
    "# --------------====== Problem 4 ======--------------\n",
    "# Add every other number in the summed word array.\n",
    "# d[x] because range produces index values, not actual values\n",
    "print(sum([d[x] for x in range(0,len(d),2)]))"
   ]
  },
  {
   "cell_type": "code",
   "execution_count": null,
   "metadata": {
    "collapsed": true
   },
   "outputs": [],
   "source": []
  }
 ],
 "metadata": {
  "anaconda-cloud": {},
  "kernelspec": {
   "display_name": "Python [default]",
   "language": "python",
   "name": "python3"
  },
  "language_info": {
   "codemirror_mode": {
    "name": "ipython",
    "version": 3
   },
   "file_extension": ".py",
   "mimetype": "text/x-python",
   "name": "python",
   "nbconvert_exporter": "python",
   "pygments_lexer": "ipython3",
   "version": "3.5.2"
  }
 },
 "nbformat": 4,
 "nbformat_minor": 1
}
